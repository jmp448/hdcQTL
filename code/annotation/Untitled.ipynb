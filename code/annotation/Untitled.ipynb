{
 "cells": [
  {
   "cell_type": "code",
   "execution_count": 2,
   "id": "d1ba948f-8d8d-4b6e-b0c8-99e65cf5dcfe",
   "metadata": {},
   "outputs": [],
   "source": [
    "import matplotlib.pyplot as plt\n",
    "import seaborn as sns\n",
    "import numpy as np\n",
    "import pandas as pd\n",
    "import random\n",
    "import scipy\n",
    "import scanpy as sc\n",
    "import scvi\n",
    "import os\n",
    "import sklearn.cluster as cluster\n",
    "import scdrs"
   ]
  },
  {
   "cell_type": "code",
   "execution_count": 13,
   "id": "ef0a2496-87e9-4d53-aba9-9224e53b50df",
   "metadata": {},
   "outputs": [],
   "source": [
    "fca = sc.read_h5ad(\"/project2/gilad/jpopp/ebQTL/data/fca/counts.subsampled.lognorm.mca.scdrs_preprocessed.h5ad\")"
   ]
  },
  {
   "cell_type": "code",
   "execution_count": 51,
   "id": "297cbd85-a62d-4849-8b91-619789e2ba06",
   "metadata": {},
   "outputs": [],
   "source": [
    "eb = fca[fca.obs['celltype'] != \"Cardiomyocytes\"]"
   ]
  },
  {
   "cell_type": "code",
   "execution_count": 11,
   "id": "348c0d55-308f-41e7-bd46-63a1936961e0",
   "metadata": {},
   "outputs": [],
   "source": [
    "differentiation_gs = scdrs.util.load_gs(\"/project2/gilad/jpopp/ebQTL/data/gene_sets/c5.go.bp.Hs.symbols.differentiation.gs\")"
   ]
  },
  {
   "cell_type": "code",
   "execution_count": 9,
   "id": "884bb0f8-2f21-473c-b2f8-436f04b6023b",
   "metadata": {},
   "outputs": [
    {
     "data": {
      "text/plain": [
       "'GOBP_OVARIAN_FOLLICLE_DEVELOPMENT'"
      ]
     },
     "execution_count": 9,
     "metadata": {},
     "output_type": "execute_result"
    }
   ],
   "source": [
    "g = list(go_bp_gs.keys())[0]\n",
    "g"
   ]
  },
  {
   "cell_type": "code",
   "execution_count": 16,
   "id": "c17e9b9c-4359-473f-8c1d-7f17af85305e",
   "metadata": {},
   "outputs": [],
   "source": [
    "geneset = differentiation_gs[g][0]"
   ]
  },
  {
   "cell_type": "code",
   "execution_count": 17,
   "id": "08f2160f-d8ea-439a-b3d2-e1b06363dc90",
   "metadata": {},
   "outputs": [
    {
     "name": "stderr",
     "output_type": "stream",
     "text": [
      "Computing control scores: 100%|██████████| 100/100 [00:24<00:00,  4.06it/s]\n"
     ]
    }
   ],
   "source": [
    "result = scdrs.score_cell(fca, geneset, n_ctrl=100)"
   ]
  },
  {
   "cell_type": "code",
   "execution_count": 54,
   "id": "b1a7b819-8c83-4f1d-b5a7-86c532657c1a",
   "metadata": {},
   "outputs": [
    {
     "name": "stderr",
     "output_type": "stream",
     "text": [
      "Computing control scores: 100%|██████████| 100/100 [00:24<00:00,  4.14it/s]\n"
     ]
    }
   ],
   "source": [
    "eb_result = scdrs.score_cell(fca, geneset, n_ctrl=100)\n",
    "eb_result['celltype'] = eb.obs['celltype']"
   ]
  },
  {
   "cell_type": "code",
   "execution_count": 19,
   "id": "d6f51e54-343e-473f-82ce-e3c0e343ba77",
   "metadata": {},
   "outputs": [
    {
     "data": {
      "text/html": [
       "<div>\n",
       "<style scoped>\n",
       "    .dataframe tbody tr th:only-of-type {\n",
       "        vertical-align: middle;\n",
       "    }\n",
       "\n",
       "    .dataframe tbody tr th {\n",
       "        vertical-align: top;\n",
       "    }\n",
       "\n",
       "    .dataframe thead th {\n",
       "        text-align: right;\n",
       "    }\n",
       "</style>\n",
       "<table border=\"1\" class=\"dataframe\">\n",
       "  <thead>\n",
       "    <tr style=\"text-align: right;\">\n",
       "      <th></th>\n",
       "      <th>raw_score</th>\n",
       "      <th>norm_score</th>\n",
       "      <th>mc_pval</th>\n",
       "      <th>pval</th>\n",
       "      <th>nlog10_pval</th>\n",
       "      <th>zscore</th>\n",
       "      <th>celltype</th>\n",
       "    </tr>\n",
       "  </thead>\n",
       "  <tbody>\n",
       "    <tr>\n",
       "      <th>exp4-human-100well.CGTACCTATGGCTCTCTAT</th>\n",
       "      <td>0.055543</td>\n",
       "      <td>2.376311</td>\n",
       "      <td>0.019802</td>\n",
       "      <td>0.029637</td>\n",
       "      <td>1.528159</td>\n",
       "      <td>1.886149</td>\n",
       "      <td>Adrenocortical cells</td>\n",
       "    </tr>\n",
       "    <tr>\n",
       "      <th>exp4-human-100well.AGTAGCCATGGTATCCGCC</th>\n",
       "      <td>0.028187</td>\n",
       "      <td>1.206138</td>\n",
       "      <td>0.069307</td>\n",
       "      <td>0.123032</td>\n",
       "      <td>0.909983</td>\n",
       "      <td>1.159964</td>\n",
       "      <td>Adrenocortical cells</td>\n",
       "    </tr>\n",
       "    <tr>\n",
       "      <th>exp4-human-101well.TTTGCTACTTTCGGCCTTAC</th>\n",
       "      <td>0.068773</td>\n",
       "      <td>2.625826</td>\n",
       "      <td>0.019802</td>\n",
       "      <td>0.021186</td>\n",
       "      <td>1.673946</td>\n",
       "      <td>2.029843</td>\n",
       "      <td>Adrenocortical cells</td>\n",
       "    </tr>\n",
       "    <tr>\n",
       "      <th>exp4-human-101well.TAACTAAGGTTAGAATTAAC</th>\n",
       "      <td>0.015259</td>\n",
       "      <td>0.162876</td>\n",
       "      <td>0.326733</td>\n",
       "      <td>0.352909</td>\n",
       "      <td>0.452337</td>\n",
       "      <td>0.377477</td>\n",
       "      <td>Adrenocortical cells</td>\n",
       "    </tr>\n",
       "    <tr>\n",
       "      <th>exp4-human-101well.CCATCAGGTGGTATCCGCC</th>\n",
       "      <td>0.016028</td>\n",
       "      <td>0.644194</td>\n",
       "      <td>0.217822</td>\n",
       "      <td>0.222566</td>\n",
       "      <td>0.652542</td>\n",
       "      <td>0.763557</td>\n",
       "      <td>Adrenocortical cells</td>\n",
       "    </tr>\n",
       "    <tr>\n",
       "      <th>...</th>\n",
       "      <td>...</td>\n",
       "      <td>...</td>\n",
       "      <td>...</td>\n",
       "      <td>...</td>\n",
       "      <td>...</td>\n",
       "      <td>...</td>\n",
       "      <td>...</td>\n",
       "    </tr>\n",
       "    <tr>\n",
       "      <th>exp2-human-568_.TACGGTAGTGTCCTAGAGG</th>\n",
       "      <td>0.029506</td>\n",
       "      <td>0.186823</td>\n",
       "      <td>0.336634</td>\n",
       "      <td>0.345278</td>\n",
       "      <td>0.461831</td>\n",
       "      <td>0.398100</td>\n",
       "      <td>Lymphoid cells</td>\n",
       "    </tr>\n",
       "    <tr>\n",
       "      <th>exp3-human-111well.TCGCGCATTTAGATCTACT</th>\n",
       "      <td>0.000000</td>\n",
       "      <td>-3.086563</td>\n",
       "      <td>1.000000</td>\n",
       "      <td>1.000000</td>\n",
       "      <td>-0.000000</td>\n",
       "      <td>-10.000000</td>\n",
       "      <td>Lymphoid cells</td>\n",
       "    </tr>\n",
       "    <tr>\n",
       "      <th>exp3-human-186well.AACGTAATCTATCCATGACT</th>\n",
       "      <td>0.006468</td>\n",
       "      <td>-0.493984</td>\n",
       "      <td>0.564356</td>\n",
       "      <td>0.595742</td>\n",
       "      <td>0.224942</td>\n",
       "      <td>-0.242341</td>\n",
       "      <td>Lymphoid cells</td>\n",
       "    </tr>\n",
       "    <tr>\n",
       "      <th>exp3-human-90well.ATATGCCATTTATATACTAA</th>\n",
       "      <td>0.000000</td>\n",
       "      <td>-3.086563</td>\n",
       "      <td>1.000000</td>\n",
       "      <td>1.000000</td>\n",
       "      <td>-0.000000</td>\n",
       "      <td>-10.000000</td>\n",
       "      <td>Lymphoid cells</td>\n",
       "    </tr>\n",
       "    <tr>\n",
       "      <th>exp3-human-410well.ACAACCTATTCATCTCTGCA</th>\n",
       "      <td>0.000000</td>\n",
       "      <td>-3.086563</td>\n",
       "      <td>1.000000</td>\n",
       "      <td>1.000000</td>\n",
       "      <td>-0.000000</td>\n",
       "      <td>-10.000000</td>\n",
       "      <td>Lymphoid cells</td>\n",
       "    </tr>\n",
       "  </tbody>\n",
       "</table>\n",
       "<p>142660 rows × 7 columns</p>\n",
       "</div>"
      ],
      "text/plain": [
       "                                         raw_score  norm_score   mc_pval  \\\n",
       "exp4-human-100well.CGTACCTATGGCTCTCTAT    0.055543    2.376311  0.019802   \n",
       "exp4-human-100well.AGTAGCCATGGTATCCGCC    0.028187    1.206138  0.069307   \n",
       "exp4-human-101well.TTTGCTACTTTCGGCCTTAC   0.068773    2.625826  0.019802   \n",
       "exp4-human-101well.TAACTAAGGTTAGAATTAAC   0.015259    0.162876  0.326733   \n",
       "exp4-human-101well.CCATCAGGTGGTATCCGCC    0.016028    0.644194  0.217822   \n",
       "...                                            ...         ...       ...   \n",
       "exp2-human-568_.TACGGTAGTGTCCTAGAGG       0.029506    0.186823  0.336634   \n",
       "exp3-human-111well.TCGCGCATTTAGATCTACT    0.000000   -3.086563  1.000000   \n",
       "exp3-human-186well.AACGTAATCTATCCATGACT   0.006468   -0.493984  0.564356   \n",
       "exp3-human-90well.ATATGCCATTTATATACTAA    0.000000   -3.086563  1.000000   \n",
       "exp3-human-410well.ACAACCTATTCATCTCTGCA   0.000000   -3.086563  1.000000   \n",
       "\n",
       "                                             pval  nlog10_pval     zscore  \\\n",
       "exp4-human-100well.CGTACCTATGGCTCTCTAT   0.029637     1.528159   1.886149   \n",
       "exp4-human-100well.AGTAGCCATGGTATCCGCC   0.123032     0.909983   1.159964   \n",
       "exp4-human-101well.TTTGCTACTTTCGGCCTTAC  0.021186     1.673946   2.029843   \n",
       "exp4-human-101well.TAACTAAGGTTAGAATTAAC  0.352909     0.452337   0.377477   \n",
       "exp4-human-101well.CCATCAGGTGGTATCCGCC   0.222566     0.652542   0.763557   \n",
       "...                                           ...          ...        ...   \n",
       "exp2-human-568_.TACGGTAGTGTCCTAGAGG      0.345278     0.461831   0.398100   \n",
       "exp3-human-111well.TCGCGCATTTAGATCTACT   1.000000    -0.000000 -10.000000   \n",
       "exp3-human-186well.AACGTAATCTATCCATGACT  0.595742     0.224942  -0.242341   \n",
       "exp3-human-90well.ATATGCCATTTATATACTAA   1.000000    -0.000000 -10.000000   \n",
       "exp3-human-410well.ACAACCTATTCATCTCTGCA  1.000000    -0.000000 -10.000000   \n",
       "\n",
       "                                                     celltype  \n",
       "exp4-human-100well.CGTACCTATGGCTCTCTAT   Adrenocortical cells  \n",
       "exp4-human-100well.AGTAGCCATGGTATCCGCC   Adrenocortical cells  \n",
       "exp4-human-101well.TTTGCTACTTTCGGCCTTAC  Adrenocortical cells  \n",
       "exp4-human-101well.TAACTAAGGTTAGAATTAAC  Adrenocortical cells  \n",
       "exp4-human-101well.CCATCAGGTGGTATCCGCC   Adrenocortical cells  \n",
       "...                                                       ...  \n",
       "exp2-human-568_.TACGGTAGTGTCCTAGAGG            Lymphoid cells  \n",
       "exp3-human-111well.TCGCGCATTTAGATCTACT         Lymphoid cells  \n",
       "exp3-human-186well.AACGTAATCTATCCATGACT        Lymphoid cells  \n",
       "exp3-human-90well.ATATGCCATTTATATACTAA         Lymphoid cells  \n",
       "exp3-human-410well.ACAACCTATTCATCTCTGCA        Lymphoid cells  \n",
       "\n",
       "[142660 rows x 7 columns]"
      ]
     },
     "execution_count": 19,
     "metadata": {},
     "output_type": "execute_result"
    }
   ],
   "source": [
    "result['celltype'] = fca.obs['celltype']\n",
    "result"
   ]
  },
  {
   "cell_type": "code",
   "execution_count": 27,
   "id": "b22c9d6f-916f-42e3-912e-68cb1ad6aa46",
   "metadata": {},
   "outputs": [],
   "source": [
    "fca_types = list(fca.obs.celltype.cat.categories)\n",
    "fca_palette = sns.color_palette(n_colors=len(fca_types))"
   ]
  },
  {
   "cell_type": "code",
   "execution_count": 52,
   "id": "9f2adad9-66e6-4645-9d66-8851bddd59bd",
   "metadata": {},
   "outputs": [],
   "source": [
    "eb_types = list(eb.obs.celltype.cat.categories)\n",
    "eb_palette = sns.color_palette([fca_palette[fca_types.index(t)] for t in eb_types])"
   ]
  },
  {
   "cell_type": "code",
   "execution_count": null,
   "id": "c52e5969-c688-48bc-bd6a-bb652f215422",
   "metadata": {},
   "outputs": [],
   "source": [
    "fig, ax = plt.subplots(nrows=2, ncols=1, figsize=(15, 15))\n",
    "sns.violinplot(data=result, x=\"celltype\", y=\"norm_score\", palette=fca_palette, inner=None, ax=ax[0])\n",
    "sns.violinplot(data=eb_result, x=\"celltype\", y=\"norm_score\", palette=eb_palette, inner=None, ax=ax[1])\n",
    "\n",
    "ax[0].title.set_text(g + \" (FCA)\")\n",
    "ax[0].tick_params(rotation=90)\n",
    "ax[1].title.set_text(g + \" (EB)\")\n",
    "ax[1].tick_params(rotation=90)\n",
    "\n",
    "fig.tight_layout(pad=2.0)\n",
    "plt.savefig(\"/project2/gilad/jpopp/ebQTL/temp/test2.png\")"
   ]
  },
  {
   "cell_type": "code",
   "execution_count": null,
   "id": "5b48b905-1c60-46f2-9f2e-3a8591cd4e87",
   "metadata": {},
   "outputs": [],
   "source": []
  }
 ],
 "metadata": {
  "kernelspec": {
   "display_name": "scvi-scanpy",
   "language": "python",
   "name": "scvi-scanpy"
  },
  "language_info": {
   "codemirror_mode": {
    "name": "ipython",
    "version": 3
   },
   "file_extension": ".py",
   "mimetype": "text/x-python",
   "name": "python",
   "nbconvert_exporter": "python",
   "pygments_lexer": "ipython3",
   "version": "3.9.10"
  }
 },
 "nbformat": 4,
 "nbformat_minor": 5
}
