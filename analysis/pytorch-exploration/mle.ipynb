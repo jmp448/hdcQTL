{
 "cells": [
  {
   "cell_type": "code",
   "execution_count": 1,
   "id": "32443bbd-7815-4364-be87-574b40d1ff38",
   "metadata": {},
   "outputs": [
    {
     "name": "stderr",
     "output_type": "stream",
     "text": [
      "Global seed set to 0\n"
     ]
    }
   ],
   "source": [
    "import numpy as np\n",
    "import scanpy as sc\n",
    "import matplotlib.pyplot as plt\n",
    "import torch\n",
    "import torch.nn\n",
    "from scvi.distributions import NegativeBinomial\n",
    "from typing import Optional\n",
    "from anndata import AnnData\n",
    "import scvi\n",
    "from scvi.data import AnnDataManager\n",
    "from scvi.data.fields import(\n",
    "    LayerField, \n",
    "    CategoricalObsField,\n",
    "    NumericalObsField,\n",
    "    CategoricalJointObsField,\n",
    "    NumericalJointObsField,\n",
    ")\n",
    "from scvi import REGISTRY_KEYS\n",
    "from scvi.module.base import (\n",
    "    BaseModuleClass,\n",
    "    LossRecorder,\n",
    "    auto_move_data,\n",
    ")\n",
    "from scvi.model.base import BaseModelClass, UnsupervisedTrainingMixin\n",
    "\n",
    "sc.set_figure_params(figsize=(4, 4))"
   ]
  },
  {
   "cell_type": "markdown",
   "id": "e21da2ff-7afa-4a49-bfa3-f58502dfbaa0",
   "metadata": {},
   "source": [
    "I will be randomly generating data for now - this data follows a ZINB distribution"
   ]
  },
  {
   "cell_type": "markdown",
   "id": "6127fd6f-0822-4272-9169-b7b5de3d0313",
   "metadata": {},
   "source": [
    "## Data Loading"
   ]
  },
  {
   "cell_type": "code",
   "execution_count": 2,
   "id": "9d34bd84-9bff-4d53-a9f4-2e7cc5aee29c",
   "metadata": {},
   "outputs": [
    {
     "name": "stderr",
     "output_type": "stream",
     "text": [
      "/scratch/midway2/jpopp/.conda/envs/scvi-scanpy/lib/python3.9/site-packages/scvi/data/_built_in_data/_synthetic.py:28: FutureWarning: X.dtype being converted to np.float32 from int64. In the next version of anndata (0.9) conversion will not be automatic. Pass dtype explicitly to avoid this warning. Pass `AnnData(X, dtype=X.dtype, ...)` to get the future behavour.\n",
      "  adata = AnnData(data)\n"
     ]
    },
    {
     "name": "stdout",
     "output_type": "stream",
     "text": [
      "dict_keys(['scvi_version', 'model_name', 'setup_args', 'field_registries', '_scvi_uuid'])\n"
     ]
    }
   ],
   "source": [
    "adata = scvi.data.synthetic_iid()\n",
    "\n",
    "anndata_fields = [\n",
    "    LayerField(registry_key=\"x\", layer=None, is_count_data=True),\n",
    "    CategoricalObsField(registry_key=\"batch\", obs_key=\"batch\"),\n",
    "]\n",
    "adata_manager = AnnDataManager(fields=anndata_fields)\n",
    "adata_manager.register_fields(adata)\n",
    "print(adata_manager.registry.keys()) # There is additionally a _scvi_uuid key which is used to uniquely identify AnnData objects for subsequent retrieval."
   ]
  },
  {
   "cell_type": "code",
   "execution_count": 3,
   "id": "3424c786-a77a-4090-a00d-67ee49d7aaa6",
   "metadata": {},
   "outputs": [
    {
     "data": {
      "text/plain": [
       "AnnData object with n_obs × n_vars = 400 × 100\n",
       "    obs: 'batch', 'labels', '_scvi_batch'\n",
       "    uns: 'protein_names', '_scvi_uuid', '_scvi_manager_uuid'\n",
       "    obsm: 'protein_expression'"
      ]
     },
     "execution_count": 3,
     "metadata": {},
     "output_type": "execute_result"
    }
   ],
   "source": [
    "adata"
   ]
  },
  {
   "cell_type": "markdown",
   "id": "a504d96e-2e08-4f07-af0b-47ed94c4976f",
   "metadata": {},
   "source": [
    "## Probabilistic Model"
   ]
  },
  {
   "cell_type": "markdown",
   "id": "097ee4eb-5c17-4be3-96b7-e2833d1a8803",
   "metadata": {},
   "source": [
    "For now, I am exclusively interested in an inferential task. I'll build up a generative model later by making assumptions about the distribution of these parameters. But for now, I will assume no variation in cell state. The gene expression of a gene $g$ in a cell $n$, $x_{ng}$, is then:\n",
    "$$ x_{ng} \\sim \\textrm{NegativeBinomial} (l_n \\mu_g, \\theta_g)$$"
   ]
  },
  {
   "cell_type": "markdown",
   "id": "bbb387c6-4fcb-4472-ae50-637b9f642d5a",
   "metadata": {},
   "source": [
    "Where $\\mu_g$ and $\\theta_g$ are positive parameters to be learned (the mean and dispersion parameters of the negative binomial distribution)."
   ]
  },
  {
   "cell_type": "markdown",
   "id": "565137a0-9d7d-492d-b383-628484546bb7",
   "metadata": {},
   "source": [
    "### Inference mechanism"
   ]
  },
  {
   "cell_type": "markdown",
   "id": "2cdc23d1-c679-47e4-9e22-85be642d0e4d",
   "metadata": {},
   "source": [
    "We can use maximum likelihood estimation to perform inference over the parameters $\\Theta=\\{ \\mu_g, \\theta_g \\}$. To do so we inherit from the base module class, and create a negative binomial model with a loss function that's just the negative log likelihood. We assume no generative model."
   ]
  },
  {
   "cell_type": "code",
   "execution_count": 5,
   "id": "5d8b92f9-1989-48d7-bacf-b1f465c14720",
   "metadata": {},
   "outputs": [],
   "source": [
    "class NB_Module(BaseModuleClass):\n",
    "    \"\"\"\n",
    "    Basic negative binomial model.\n",
    "\n",
    "    Parameters\n",
    "    ----------\n",
    "    n_input\n",
    "        Number of input genes\n",
    "    \"\"\"\n",
    "\n",
    "    def __init__(\n",
    "        self,\n",
    "        n_input: int\n",
    "    ):\n",
    "        super().__init__()\n",
    "        # in the init, we create the parameters of our elementary stochastic computation unit.\n",
    "\n",
    "        # First, we setup the parameters of the generative model\n",
    "        self.log_mu = torch.nn.Parameter(torch.randn(n_input))\n",
    "        self.log_theta = torch.nn.Parameter(torch.randn(n_input))\n",
    "\n",
    "    def _get_inference_input(self, tensors):\n",
    "        return dict()\n",
    "    \n",
    "    def _get_generative_input(self, tensors, inference_outputs):\n",
    "        x = tensors[REGISTRY_KEYS.X_KEY]\n",
    "        # here we extract the number of UMIs per cell as a known quantity\n",
    "        library = torch.sum(x, dim=1, keepdim=True)\n",
    "\n",
    "        input_dict = {\n",
    "            \"library\": library,\n",
    "        }\n",
    "        return input_dict\n",
    "\n",
    "    def inference(self):\n",
    "        return dict()\n",
    "        \n",
    "    @auto_move_data\n",
    "    def generative(self, library):\n",
    "        \"\"\"Runs the generative model.\"\"\"\n",
    "\n",
    "        # get the mean parameter of the negative binomial\n",
    "        mu = library * torch.exp(self.log_mu)\n",
    "        # get the dispersion parameter\n",
    "        theta = torch.exp(self.log_theta)\n",
    "\n",
    "        return dict(\n",
    "            mu=mu, theta=theta\n",
    "        )\n",
    "\n",
    "    def loss(\n",
    "        self,\n",
    "        tensors,\n",
    "        inference_outputs,\n",
    "        generative_outputs,\n",
    "    ):\n",
    "\n",
    "        # here, we would like to form the log likelihood\n",
    "        # so we extract all the required information\n",
    "        x = tensors[REGISTRY_KEYS.X_KEY]\n",
    "        mu = generative_outputs[\"mu\"]\n",
    "        theta = generative_outputs[\"theta\"]\n",
    "\n",
    "        # log likelihood\n",
    "        # note that I'm using the scVI NB which offers this mu/ theta parametrization, compatible with the Poisson-Gamma \n",
    "        log_lik = NegativeBinomial(mu=mu, theta=theta).log_prob(x).sum(dim=-1)\n",
    "\n",
    "        nll = torch.mean(-log_lik)\n",
    "        return LossRecorder(loss=nll, reconstruction_loss=-log_lik)"
   ]
  },
  {
   "cell_type": "markdown",
   "id": "130f1092-f9e4-44f4-83a4-d1ff9a22f032",
   "metadata": {},
   "source": [
    "## Training"
   ]
  },
  {
   "cell_type": "markdown",
   "id": "9cf8b2db-b926-46e1-8e89-0f2f34899ef6",
   "metadata": {},
   "source": [
    "To train the model, I will inherit from the base model class and the unsupervised training mixin class."
   ]
  },
  {
   "cell_type": "code",
   "execution_count": 6,
   "id": "0dfc1d19-9f71-4c35-bb32-30a7a419bd54",
   "metadata": {},
   "outputs": [],
   "source": [
    "class NB_Model(UnsupervisedTrainingMixin, BaseModelClass):\n",
    "    def __init__(\n",
    "        self,\n",
    "        adata: AnnData,\n",
    "        **model_kwargs,\n",
    "    ):\n",
    "        super(NB_Model, self).__init__(adata)\n",
    "\n",
    "        self.module = NB_Module(\n",
    "            n_input=self.summary_stats[\"n_vars\"],\n",
    "            **model_kwargs,\n",
    "        )\n",
    "        self._model_summary_string = (\"NB Model has been created\")\n",
    "        self.init_params_ = self._get_init_params(locals())\n",
    "\n",
    "    @classmethod\n",
    "    def setup_anndata(\n",
    "        cls,\n",
    "        adata: AnnData,\n",
    "        batch_key: Optional[str] = None,\n",
    "        layer: Optional[str] = None,\n",
    "        **kwargs,\n",
    "    ) -> Optional[AnnData]:\n",
    "        setup_method_args = cls._get_setup_method_args(**locals())\n",
    "        anndata_fields = [\n",
    "            LayerField(REGISTRY_KEYS.X_KEY, layer, is_count_data=True),\n",
    "            CategoricalObsField(REGISTRY_KEYS.BATCH_KEY, batch_key),\n",
    "            # Dummy fields required for VAE class.\n",
    "            CategoricalObsField(REGISTRY_KEYS.LABELS_KEY, None),\n",
    "            NumericalObsField(\n",
    "                REGISTRY_KEYS.SIZE_FACTOR_KEY, None, required=False\n",
    "            ),\n",
    "            CategoricalJointObsField(\n",
    "                REGISTRY_KEYS.CAT_COVS_KEY, None\n",
    "            ),\n",
    "            NumericalJointObsField(\n",
    "                REGISTRY_KEYS.CONT_COVS_KEY, None\n",
    "            ),\n",
    "        ]\n",
    "        adata_manager = AnnDataManager(\n",
    "            fields=anndata_fields, setup_method_args=setup_method_args\n",
    "        )\n",
    "        adata_manager.register_fields(adata, **kwargs)\n",
    "        cls.register_manager(adata_manager)"
   ]
  },
  {
   "cell_type": "code",
   "execution_count": 7,
   "id": "81bbbd43-eddd-42ee-b395-6aed74076323",
   "metadata": {},
   "outputs": [],
   "source": [
    "NB_Model.setup_anndata(adata, batch_key=\"batch\")\n",
    "my_model = NB_Model(adata)"
   ]
  },
  {
   "cell_type": "code",
   "execution_count": 8,
   "id": "af64d8ff-0ce1-472b-9502-447e60c4b1d6",
   "metadata": {},
   "outputs": [
    {
     "name": "stderr",
     "output_type": "stream",
     "text": [
      "GPU available: True, used: True\n",
      "TPU available: False, using: 0 TPU cores\n",
      "IPU available: False, using: 0 IPUs\n",
      "HPU available: False, using: 0 HPUs\n",
      "LOCAL_RANK: 0 - CUDA_VISIBLE_DEVICES: [0,1]\n",
      "/scratch/midway2/jpopp/.conda/envs/scvi-scanpy/lib/python3.9/site-packages/pytorch_lightning/trainer/trainer.py:1933: PossibleUserWarning: The number of training batches (3) is smaller than the logging interval Trainer(log_every_n_steps=10). Set a lower value for log_every_n_steps if you want to see logs for the training epoch.\n",
      "  rank_zero_warn(\n"
     ]
    },
    {
     "name": "stdout",
     "output_type": "stream",
     "text": [
      "Epoch 400/400: 100%|██████████| 400/400 [00:07<00:00, 52.12it/s, loss=508, v_num=1]\n"
     ]
    }
   ],
   "source": [
    "my_model.train()"
   ]
  },
  {
   "cell_type": "markdown",
   "id": "ef9fb300-8201-4932-8bd2-83b7183659aa",
   "metadata": {},
   "source": [
    "Check whether the parameters are what we'd expect them to be"
   ]
  },
  {
   "cell_type": "code",
   "execution_count": 9,
   "id": "b4d2383f-f474-445e-9f70-a8474f8adf45",
   "metadata": {},
   "outputs": [],
   "source": [
    "empirical_libsizes = np.reshape(np.sum(adata.X, axis=1), (adata.shape[0], 1))"
   ]
  },
  {
   "cell_type": "code",
   "execution_count": 10,
   "id": "0e33941e-4a7f-400b-8732-3127ca82ae1e",
   "metadata": {},
   "outputs": [],
   "source": [
    "empirical_means = np.mean(np.divide(adata.X, empirical_libsizes), axis=0)"
   ]
  },
  {
   "cell_type": "code",
   "execution_count": 11,
   "id": "a1850e83-01e7-4286-b53c-8a6da78bf651",
   "metadata": {},
   "outputs": [],
   "source": [
    "model_means = torch.exp(my_model.module.log_mu).cpu().detach().numpy()"
   ]
  },
  {
   "cell_type": "code",
   "execution_count": 12,
   "id": "7c3cd8f2-2ff3-402d-bb82-fdca5e2568cd",
   "metadata": {},
   "outputs": [
    {
     "data": {
      "text/plain": [
       "array([0.01010271, 0.00949435, 0.01122496, 0.00979518, 0.01028525,\n",
       "       0.01006608, 0.00976085, 0.00976443, 0.009719  , 0.0104483 ,\n",
       "       0.01050898, 0.01017805, 0.0095544 , 0.00886288, 0.00989365,\n",
       "       0.01021235, 0.01038063, 0.010628  , 0.0102234 , 0.01008236,\n",
       "       0.01046244, 0.0103889 , 0.00979643, 0.00998066, 0.01004249,\n",
       "       0.00924469, 0.01060446, 0.01051587, 0.0099667 , 0.0098655 ,\n",
       "       0.00990636, 0.00995202, 0.00937541, 0.01042818, 0.00875999,\n",
       "       0.00971607, 0.00930393, 0.00964822, 0.01023766, 0.00941563,\n",
       "       0.01001425, 0.00950833, 0.00996635, 0.01029989, 0.01000723,\n",
       "       0.01047107, 0.00991597, 0.00965965, 0.0096276 , 0.01063732,\n",
       "       0.01117498, 0.01010625, 0.01006703, 0.00981892, 0.01018743,\n",
       "       0.00982588, 0.01055755, 0.0102737 , 0.00924832, 0.01041131,\n",
       "       0.01057354, 0.00865247, 0.01006649, 0.00913697, 0.0095797 ,\n",
       "       0.01018686, 0.01017576, 0.01007109, 0.00954831, 0.00941061,\n",
       "       0.00975159, 0.01052397, 0.01084445, 0.01033085, 0.01007428,\n",
       "       0.0105084 , 0.00968316, 0.00995149, 0.01009879, 0.00982022,\n",
       "       0.01020091, 0.01032479, 0.01011012, 0.01009254, 0.01035492,\n",
       "       0.01027345, 0.00957544, 0.01010914, 0.00992666, 0.0103678 ,\n",
       "       0.00927609, 0.01051528, 0.00983109, 0.00996274, 0.0093211 ,\n",
       "       0.01054529, 0.00985388, 0.01028349, 0.00989559, 0.00961425],\n",
       "      dtype=float32)"
      ]
     },
     "execution_count": 12,
     "metadata": {},
     "output_type": "execute_result"
    }
   ],
   "source": [
    "empirical_means"
   ]
  },
  {
   "cell_type": "markdown",
   "id": "1d4cbc88-51b9-40e5-929b-74bdb26d9357",
   "metadata": {},
   "source": [
    "Not sure why these don't match better, did the negative log likelihood reach a flatline?"
   ]
  },
  {
   "cell_type": "code",
   "execution_count": 13,
   "id": "d252b542-1a59-4ff2-aef9-1d6db101ac71",
   "metadata": {},
   "outputs": [
    {
     "data": {
      "text/plain": [
       "[<matplotlib.lines.Line2D at 0x7f0124762ac0>]"
      ]
     },
     "execution_count": 13,
     "metadata": {},
     "output_type": "execute_result"
    },
    {
     "data": {
      "image/png": "[encoded data removed]",
      "text/plain": [
       "<Figure size 320x320 with 1 Axes>"
      ]
     },
     "metadata": {
      "image/png": {
       "height": 282,
       "width": 293
      },
      "needs_background": "light"
     },
     "output_type": "display_data"
    }
   ],
   "source": [
    "plt.plot(empirical_means, model_means, 'o')"
   ]
  },
  {
   "cell_type": "code",
   "execution_count": 14,
   "id": "7defda8f-080f-4371-8b42-c61908ff4b62",
   "metadata": {},
   "outputs": [
    {
     "data": {
      "text/plain": [
       "[<matplotlib.lines.Line2D at 0x7f01246d3bb0>]"
      ]
     },
     "execution_count": 14,
     "metadata": {},
     "output_type": "execute_result"
    },
    {
     "data": {
      "image/png": "[encoded data removed]",
      "text/plain": [
       "<Figure size 320x320 with 1 Axes>"
      ]
     },
     "metadata": {
      "image/png": {
       "height": 282,
       "width": 307
      },
      "needs_background": "light"
     },
     "output_type": "display_data"
    }
   ],
   "source": [
    "plt.plot(my_model.history_['train_loss_epoch'])"
   ]
  },
  {
   "cell_type": "markdown",
   "id": "0b2ad4d7-326a-4a2a-9940-0de638eb7d61",
   "metadata": {},
   "source": [
    "It did not. Would initializing to the correct means make things better?"
   ]
  },
  {
   "cell_type": "code",
   "execution_count": 101,
   "id": "e1488646-1830-4116-99d7-f1c1fec3ce3f",
   "metadata": {},
   "outputs": [],
   "source": [
    "log_mu_init = np.log(empirical_means)"
   ]
  },
  {
   "cell_type": "code",
   "execution_count": null,
   "id": "4b82061a-7a40-45e2-965a-5638cb0e3c1d",
   "metadata": {},
   "outputs": [],
   "source": [
    "NB_Model.setup_anndata(adata, batch_key=\"batch\")\n",
    "my_model_initialized = NB_Model(adata)"
   ]
  },
  {
   "cell_type": "code",
   "execution_count": null,
   "id": "fb80e919-12f6-413a-bfa7-6ff20a611cdb",
   "metadata": {},
   "outputs": [],
   "source": [
    "Save "
   ]
  }
 ],
 "metadata": {
  "kernelspec": {
   "display_name": "scvi-scanpy",
   "language": "python",
   "name": "scvi-scanpy"
  },
  "language_info": {
   "codemirror_mode": {
    "name": "ipython",
    "version": 3
   },
   "file_extension": ".py",
   "mimetype": "text/x-python",
   "name": "python",
   "nbconvert_exporter": "python",
   "pygments_lexer": "ipython3",
   "version": "3.9.10"
  }
 },
 "nbformat": 4,
 "nbformat_minor": 5
}
