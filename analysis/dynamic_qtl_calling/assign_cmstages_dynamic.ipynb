{
 "cells": [
  {
   "cell_type": "code",
   "execution_count": 1,
   "id": "d44ce4c4",
   "metadata": {},
   "outputs": [
    {
     "name": "stderr",
     "output_type": "stream",
     "text": [
      "Global seed set to 0\n"
     ]
    }
   ],
   "source": [
    "import scanpy as sc\n",
    "import pandas as pd\n",
    "import numpy as np\n",
    "import seaborn as sns\n",
    "import scvi\n",
    "import math\n",
    "import matplotlib.pyplot as plt\n",
    "import scipy.sparse\n",
    "from glob import glob\n",
    "from sklearn.preprocessing import OneHotEncoder\n",
    "from sklearn.linear_model import LinearRegression\n",
    "\n",
    "%matplotlib inline"
   ]
  },
  {
   "cell_type": "code",
   "execution_count": 2,
   "id": "6f6ea542",
   "metadata": {},
   "outputs": [
    {
     "name": "stdout",
     "output_type": "stream",
     "text": [
      "scanpy==1.9.1 anndata==0.8.0 umap==0.5.2 numpy==1.21.6 scipy==1.9.0 pandas==1.4.3 scikit-learn==1.0.2 statsmodels==0.13.2 python-igraph==0.9.9 pynndescent==0.5.6\n"
     ]
    }
   ],
   "source": [
    "sc.settings.verbosity = 3             # verbosity: errors (0), warnings (1), info (2), hints (3)\n",
    "sc.logging.print_header()\n",
    "sc.settings.set_figure_params(dpi=80, facecolor='white')"
   ]
  },
  {
   "cell_type": "markdown",
   "id": "53a57a33-e4fe-4346-a9fb-0e996228cd6f",
   "metadata": {},
   "source": [
    "First, we need raw counts for each cell on the trajectory"
   ]
  },
  {
   "cell_type": "code",
   "execution_count": 3,
   "id": "55b83cbf-ca5c-4aac-a8c4-74d1ae64ce3e",
   "metadata": {},
   "outputs": [],
   "source": [
    "adata_full = sc.read_h5ad(\"/project2/gilad/jpopp/ebQTL/data/single_cell_objects/highpass/eb_raw.qc.h5ad\")\n",
    "adata_cmlineage = sc.read_h5ad(\"/project2/gilad/jpopp/ebQTL/data/trajectory_inference/cm_lineage/eb_cm_lineage.pseudotime.adata\")"
   ]
  },
  {
   "cell_type": "code",
   "execution_count": 4,
   "id": "78514073-f739-4808-bf2b-048f0994d9e5",
   "metadata": {},
   "outputs": [
    {
     "name": "stderr",
     "output_type": "stream",
     "text": [
      "/tmp/jobs/27003449/ipykernel_215636/2927929311.py:2: ImplicitModificationWarning: Trying to modify attribute `.obs` of view, initializing view as actual.\n",
      "  adata.obs['stage'] = adata_cmlineage.obs['stage']\n",
      "/scratch/midway2/jpopp/.conda/envs/scvi-scanpy/lib/python3.9/contextlib.py:126: FutureWarning: X.dtype being converted to np.float32 from int64. In the next version of anndata (0.9) conversion will not be automatic. Pass dtype explicitly to avoid this warning. Pass `AnnData(X, dtype=X.dtype, ...)` to get the future behavour.\n",
      "  next(self.gen)\n"
     ]
    }
   ],
   "source": [
    "adata = adata_full[adata_cmlineage.obs_names]\n",
    "adata.obs['stage'] = adata_cmlineage.obs['stage']"
   ]
  },
  {
   "cell_type": "code",
   "execution_count": 6,
   "id": "e7194539-4b19-47ff-b519-b0358b9abb17",
   "metadata": {},
   "outputs": [],
   "source": [
    "del adata_full\n",
    "del adata_cmlineage"
   ]
  },
  {
   "cell_type": "markdown",
   "id": "98f1aa50",
   "metadata": {
    "tags": []
   },
   "source": [
    "## Filter Samples"
   ]
  },
  {
   "cell_type": "markdown",
   "id": "017a3cae",
   "metadata": {},
   "source": [
    "How many cells do we have for each individual in each cell type?"
   ]
  },
  {
   "cell_type": "code",
   "execution_count": 8,
   "id": "b1af8a93",
   "metadata": {},
   "outputs": [
    {
     "data": {
      "text/html": [
       "<div>\n",
       "<style scoped>\n",
       "    .dataframe tbody tr th:only-of-type {\n",
       "        vertical-align: middle;\n",
       "    }\n",
       "\n",
       "    .dataframe tbody tr th {\n",
       "        vertical-align: top;\n",
       "    }\n",
       "\n",
       "    .dataframe thead th {\n",
       "        text-align: right;\n",
       "    }\n",
       "</style>\n",
       "<table border=\"1\" class=\"dataframe\">\n",
       "  <thead>\n",
       "    <tr style=\"text-align: right;\">\n",
       "      <th></th>\n",
       "      <th>type</th>\n",
       "      <th>donor_id</th>\n",
       "      <th>n_cells_unfiltered</th>\n",
       "    </tr>\n",
       "  </thead>\n",
       "  <tbody>\n",
       "    <tr>\n",
       "      <th>0</th>\n",
       "      <td>IPSC</td>\n",
       "      <td>NA18858</td>\n",
       "      <td>14814</td>\n",
       "    </tr>\n",
       "    <tr>\n",
       "      <th>1</th>\n",
       "      <td>IPSC</td>\n",
       "      <td>NA18907</td>\n",
       "      <td>7298</td>\n",
       "    </tr>\n",
       "    <tr>\n",
       "      <th>2</th>\n",
       "      <td>IPSC</td>\n",
       "      <td>NA19153</td>\n",
       "      <td>4894</td>\n",
       "    </tr>\n",
       "    <tr>\n",
       "      <th>3</th>\n",
       "      <td>IPSC</td>\n",
       "      <td>NA19144</td>\n",
       "      <td>4431</td>\n",
       "    </tr>\n",
       "    <tr>\n",
       "      <th>4</th>\n",
       "      <td>IPSC</td>\n",
       "      <td>NA19127</td>\n",
       "      <td>2687</td>\n",
       "    </tr>\n",
       "    <tr>\n",
       "      <th>...</th>\n",
       "      <td>...</td>\n",
       "      <td>...</td>\n",
       "      <td>...</td>\n",
       "    </tr>\n",
       "    <tr>\n",
       "      <th>260</th>\n",
       "      <td>CM</td>\n",
       "      <td>NA19193</td>\n",
       "      <td>0</td>\n",
       "    </tr>\n",
       "    <tr>\n",
       "      <th>261</th>\n",
       "      <td>CM</td>\n",
       "      <td>NA19209</td>\n",
       "      <td>0</td>\n",
       "    </tr>\n",
       "    <tr>\n",
       "      <th>262</th>\n",
       "      <td>CM</td>\n",
       "      <td>NA19114</td>\n",
       "      <td>0</td>\n",
       "    </tr>\n",
       "    <tr>\n",
       "      <th>263</th>\n",
       "      <td>CM</td>\n",
       "      <td>NA18520</td>\n",
       "      <td>0</td>\n",
       "    </tr>\n",
       "    <tr>\n",
       "      <th>264</th>\n",
       "      <td>CM</td>\n",
       "      <td>NA18907</td>\n",
       "      <td>0</td>\n",
       "    </tr>\n",
       "  </tbody>\n",
       "</table>\n",
       "<p>265 rows × 3 columns</p>\n",
       "</div>"
      ],
      "text/plain": [
       "     type donor_id  n_cells_unfiltered\n",
       "0    IPSC  NA18858               14814\n",
       "1    IPSC  NA18907                7298\n",
       "2    IPSC  NA19153                4894\n",
       "3    IPSC  NA19144                4431\n",
       "4    IPSC  NA19127                2687\n",
       "..    ...      ...                 ...\n",
       "260    CM  NA19193                   0\n",
       "261    CM  NA19209                   0\n",
       "262    CM  NA19114                   0\n",
       "263    CM  NA18520                   0\n",
       "264    CM  NA18907                   0\n",
       "\n",
       "[265 rows x 3 columns]"
      ]
     },
     "execution_count": 8,
     "metadata": {},
     "output_type": "execute_result"
    }
   ],
   "source": [
    "cell_counts = adata.obs[['donor_id', 'stage']]\n",
    "cell_counts = pd.DataFrame(cell_counts.groupby('stage').value_counts()).reset_index(inplace=False).rename(columns={0: \"n_cells_unfiltered\", 'stage': 'type'})\n",
    "cell_counts"
   ]
  },
  {
   "cell_type": "markdown",
   "id": "c4e76f46",
   "metadata": {},
   "source": [
    "To get this into proper form, we need to:\n",
    "- Reformat cell types"
   ]
  },
  {
   "cell_type": "code",
   "execution_count": 9,
   "id": "8ff0e97c",
   "metadata": {},
   "outputs": [
    {
     "data": {
      "text/html": [
       "<div>\n",
       "<style scoped>\n",
       "    .dataframe tbody tr th:only-of-type {\n",
       "        vertical-align: middle;\n",
       "    }\n",
       "\n",
       "    .dataframe tbody tr th {\n",
       "        vertical-align: top;\n",
       "    }\n",
       "\n",
       "    .dataframe thead th {\n",
       "        text-align: right;\n",
       "    }\n",
       "</style>\n",
       "<table border=\"1\" class=\"dataframe\">\n",
       "  <thead>\n",
       "    <tr style=\"text-align: right;\">\n",
       "      <th></th>\n",
       "      <th>ind_type</th>\n",
       "      <th>individual</th>\n",
       "      <th>type</th>\n",
       "      <th>n_cells_unfiltered</th>\n",
       "    </tr>\n",
       "  </thead>\n",
       "  <tbody>\n",
       "    <tr>\n",
       "      <th>0</th>\n",
       "      <td>18858_IPSC</td>\n",
       "      <td>18858</td>\n",
       "      <td>IPSC</td>\n",
       "      <td>14814</td>\n",
       "    </tr>\n",
       "    <tr>\n",
       "      <th>1</th>\n",
       "      <td>18907_IPSC</td>\n",
       "      <td>18907</td>\n",
       "      <td>IPSC</td>\n",
       "      <td>7298</td>\n",
       "    </tr>\n",
       "    <tr>\n",
       "      <th>2</th>\n",
       "      <td>19153_IPSC</td>\n",
       "      <td>19153</td>\n",
       "      <td>IPSC</td>\n",
       "      <td>4894</td>\n",
       "    </tr>\n",
       "    <tr>\n",
       "      <th>3</th>\n",
       "      <td>19144_IPSC</td>\n",
       "      <td>19144</td>\n",
       "      <td>IPSC</td>\n",
       "      <td>4431</td>\n",
       "    </tr>\n",
       "    <tr>\n",
       "      <th>4</th>\n",
       "      <td>19127_IPSC</td>\n",
       "      <td>19127</td>\n",
       "      <td>IPSC</td>\n",
       "      <td>2687</td>\n",
       "    </tr>\n",
       "    <tr>\n",
       "      <th>...</th>\n",
       "      <td>...</td>\n",
       "      <td>...</td>\n",
       "      <td>...</td>\n",
       "      <td>...</td>\n",
       "    </tr>\n",
       "    <tr>\n",
       "      <th>260</th>\n",
       "      <td>19193_CM</td>\n",
       "      <td>19193</td>\n",
       "      <td>CM</td>\n",
       "      <td>0</td>\n",
       "    </tr>\n",
       "    <tr>\n",
       "      <th>261</th>\n",
       "      <td>19209_CM</td>\n",
       "      <td>19209</td>\n",
       "      <td>CM</td>\n",
       "      <td>0</td>\n",
       "    </tr>\n",
       "    <tr>\n",
       "      <th>262</th>\n",
       "      <td>19114_CM</td>\n",
       "      <td>19114</td>\n",
       "      <td>CM</td>\n",
       "      <td>0</td>\n",
       "    </tr>\n",
       "    <tr>\n",
       "      <th>263</th>\n",
       "      <td>18520_CM</td>\n",
       "      <td>18520</td>\n",
       "      <td>CM</td>\n",
       "      <td>0</td>\n",
       "    </tr>\n",
       "    <tr>\n",
       "      <th>264</th>\n",
       "      <td>18907_CM</td>\n",
       "      <td>18907</td>\n",
       "      <td>CM</td>\n",
       "      <td>0</td>\n",
       "    </tr>\n",
       "  </tbody>\n",
       "</table>\n",
       "<p>265 rows × 4 columns</p>\n",
       "</div>"
      ],
      "text/plain": [
       "       ind_type individual  type  n_cells_unfiltered\n",
       "0    18858_IPSC      18858  IPSC               14814\n",
       "1    18907_IPSC      18907  IPSC                7298\n",
       "2    19153_IPSC      19153  IPSC                4894\n",
       "3    19144_IPSC      19144  IPSC                4431\n",
       "4    19127_IPSC      19127  IPSC                2687\n",
       "..          ...        ...   ...                 ...\n",
       "260    19193_CM      19193    CM                   0\n",
       "261    19209_CM      19209    CM                   0\n",
       "262    19114_CM      19114    CM                   0\n",
       "263    18520_CM      18520    CM                   0\n",
       "264    18907_CM      18907    CM                   0\n",
       "\n",
       "[265 rows x 4 columns]"
      ]
     },
     "execution_count": 9,
     "metadata": {},
     "output_type": "execute_result"
    }
   ],
   "source": [
    "cell_counts['individual'] = [s.replace(\"NA\", \"\") for s in cell_counts['donor_id']]\n",
    "cell_counts['ind_type'] = cell_counts['individual'].astype(str) + \"_\" + cell_counts['type'].astype(str)\n",
    "cell_counts = cell_counts[['ind_type', 'individual', 'type', 'n_cells_unfiltered']]\n",
    "cell_counts"
   ]
  },
  {
   "cell_type": "markdown",
   "id": "cec8597a",
   "metadata": {},
   "source": [
    "We'll drop any samples with less than 5 cells"
   ]
  },
  {
   "cell_type": "code",
   "execution_count": 10,
   "id": "556aa0cc",
   "metadata": {},
   "outputs": [],
   "source": [
    "cell_counts['dropped'] = cell_counts['n_cells_unfiltered'] < 5"
   ]
  },
  {
   "cell_type": "markdown",
   "id": "abe7a4fc",
   "metadata": {
    "tags": []
   },
   "source": [
    "## Filter Cell Types"
   ]
  },
  {
   "cell_type": "markdown",
   "id": "0cc8c62b",
   "metadata": {},
   "source": [
    "We will filter to samples with at least 5 cells, and cell types with over 25 individuals represented."
   ]
  },
  {
   "cell_type": "code",
   "execution_count": 11,
   "id": "a7dfafb4",
   "metadata": {},
   "outputs": [
    {
     "data": {
      "text/html": [
       "<div>\n",
       "<style scoped>\n",
       "    .dataframe tbody tr th:only-of-type {\n",
       "        vertical-align: middle;\n",
       "    }\n",
       "\n",
       "    .dataframe tbody tr th {\n",
       "        vertical-align: top;\n",
       "    }\n",
       "\n",
       "    .dataframe thead th {\n",
       "        text-align: right;\n",
       "    }\n",
       "</style>\n",
       "<table border=\"1\" class=\"dataframe\">\n",
       "  <thead>\n",
       "    <tr style=\"text-align: right;\">\n",
       "      <th></th>\n",
       "      <th>type</th>\n",
       "      <th>n_unfiltered</th>\n",
       "    </tr>\n",
       "  </thead>\n",
       "  <tbody>\n",
       "    <tr>\n",
       "      <th>0</th>\n",
       "      <td>MESO</td>\n",
       "      <td>48</td>\n",
       "    </tr>\n",
       "    <tr>\n",
       "      <th>1</th>\n",
       "      <td>PROG</td>\n",
       "      <td>48</td>\n",
       "    </tr>\n",
       "    <tr>\n",
       "      <th>2</th>\n",
       "      <td>MESENDO</td>\n",
       "      <td>44</td>\n",
       "    </tr>\n",
       "    <tr>\n",
       "      <th>3</th>\n",
       "      <td>CM</td>\n",
       "      <td>42</td>\n",
       "    </tr>\n",
       "    <tr>\n",
       "      <th>4</th>\n",
       "      <td>IPSC</td>\n",
       "      <td>36</td>\n",
       "    </tr>\n",
       "  </tbody>\n",
       "</table>\n",
       "</div>"
      ],
      "text/plain": [
       "      type  n_unfiltered\n",
       "0     MESO            48\n",
       "1     PROG            48\n",
       "2  MESENDO            44\n",
       "3       CM            42\n",
       "4     IPSC            36"
      ]
     },
     "execution_count": 11,
     "metadata": {},
     "output_type": "execute_result"
    }
   ],
   "source": [
    "ind_counts = cell_counts[cell_counts['n_cells_unfiltered'] >= 5]\n",
    "ind_counts = pd.DataFrame(ind_counts[['type']].value_counts()).reset_index(inplace=False).rename(columns={0: \"n_unfiltered\"})\n",
    "ind_counts = ind_counts[ind_counts['n_unfiltered']>25]\n",
    "ind_counts"
   ]
  },
  {
   "cell_type": "code",
   "execution_count": 12,
   "id": "51268b1f",
   "metadata": {},
   "outputs": [],
   "source": [
    "ind_counts.to_csv(\"/project2/gilad/jpopp/ebQTL/data/static_qtl_calling/eb_cmstages/pseudobulk_tmm/samples_per_celltype.tsv\",\n",
    "                  sep=\"\\t\", index=False)"
   ]
  },
  {
   "cell_type": "markdown",
   "id": "510f24dd",
   "metadata": {
    "tags": []
   },
   "source": [
    "## Pseudobulk Aggregation"
   ]
  },
  {
   "cell_type": "markdown",
   "id": "6b9effdc",
   "metadata": {},
   "source": [
    "First, we can highlight which samples will be kept for QTL analysis"
   ]
  },
  {
   "cell_type": "code",
   "execution_count": 13,
   "id": "15aba02f",
   "metadata": {},
   "outputs": [],
   "source": [
    "cell_types_inc = ind_counts['type']\n",
    "samples_inc = cell_counts[(cell_counts['dropped'] == False) & (cell_counts['type'].isin(cell_types_inc))]['ind_type']"
   ]
  },
  {
   "cell_type": "code",
   "execution_count": 14,
   "id": "84a36f22",
   "metadata": {},
   "outputs": [
    {
     "data": {
      "text/html": [
       "<div>\n",
       "<style scoped>\n",
       "    .dataframe tbody tr th:only-of-type {\n",
       "        vertical-align: middle;\n",
       "    }\n",
       "\n",
       "    .dataframe tbody tr th {\n",
       "        vertical-align: top;\n",
       "    }\n",
       "\n",
       "    .dataframe thead th {\n",
       "        text-align: right;\n",
       "    }\n",
       "</style>\n",
       "<table border=\"1\" class=\"dataframe\">\n",
       "  <thead>\n",
       "    <tr style=\"text-align: right;\">\n",
       "      <th></th>\n",
       "      <th>donor_id</th>\n",
       "      <th>type</th>\n",
       "      <th>ind</th>\n",
       "      <th>sample</th>\n",
       "    </tr>\n",
       "    <tr>\n",
       "      <th>cell</th>\n",
       "      <th></th>\n",
       "      <th></th>\n",
       "      <th></th>\n",
       "      <th></th>\n",
       "    </tr>\n",
       "  </thead>\n",
       "  <tbody>\n",
       "    <tr>\n",
       "      <th>AAACGAAAGTAGATCA-1</th>\n",
       "      <td>NA18913</td>\n",
       "      <td>MESENDO</td>\n",
       "      <td>18913</td>\n",
       "      <td>18913_MESENDO</td>\n",
       "    </tr>\n",
       "    <tr>\n",
       "      <th>AAACGAACATGATAGA-1</th>\n",
       "      <td>NA18913</td>\n",
       "      <td>MESENDO</td>\n",
       "      <td>18913</td>\n",
       "      <td>18913_MESENDO</td>\n",
       "    </tr>\n",
       "    <tr>\n",
       "      <th>AAACGAATCTCAGGCG-1</th>\n",
       "      <td>NA18913</td>\n",
       "      <td>IPSC</td>\n",
       "      <td>18913</td>\n",
       "      <td>18913_IPSC</td>\n",
       "    </tr>\n",
       "    <tr>\n",
       "      <th>AAAGGATTCTAAGCCA-1</th>\n",
       "      <td>NA18913</td>\n",
       "      <td>IPSC</td>\n",
       "      <td>18913</td>\n",
       "      <td>18913_IPSC</td>\n",
       "    </tr>\n",
       "    <tr>\n",
       "      <th>AAAGGTAAGTGGCGAT-1</th>\n",
       "      <td>NA18913</td>\n",
       "      <td>IPSC</td>\n",
       "      <td>18913</td>\n",
       "      <td>18913_IPSC</td>\n",
       "    </tr>\n",
       "    <tr>\n",
       "      <th>...</th>\n",
       "      <td>...</td>\n",
       "      <td>...</td>\n",
       "      <td>...</td>\n",
       "      <td>...</td>\n",
       "    </tr>\n",
       "    <tr>\n",
       "      <th>TTTGGAGGTTAAACCC-118</th>\n",
       "      <td>NA18858</td>\n",
       "      <td>MESENDO</td>\n",
       "      <td>18858</td>\n",
       "      <td>18858_MESENDO</td>\n",
       "    </tr>\n",
       "    <tr>\n",
       "      <th>TTTGGAGGTTGCAAGG-118</th>\n",
       "      <td>NA18511</td>\n",
       "      <td>IPSC</td>\n",
       "      <td>18511</td>\n",
       "      <td>18511_IPSC</td>\n",
       "    </tr>\n",
       "    <tr>\n",
       "      <th>TTTGGAGTCCGTTGGG-118</th>\n",
       "      <td>NA18858</td>\n",
       "      <td>IPSC</td>\n",
       "      <td>18858</td>\n",
       "      <td>18858_IPSC</td>\n",
       "    </tr>\n",
       "    <tr>\n",
       "      <th>TTTGGTTTCGAAGCCC-118</th>\n",
       "      <td>NA18511</td>\n",
       "      <td>IPSC</td>\n",
       "      <td>18511</td>\n",
       "      <td>18511_IPSC</td>\n",
       "    </tr>\n",
       "    <tr>\n",
       "      <th>TTTGGTTTCGAGATAA-118</th>\n",
       "      <td>NA18858</td>\n",
       "      <td>IPSC</td>\n",
       "      <td>18858</td>\n",
       "      <td>18858_IPSC</td>\n",
       "    </tr>\n",
       "  </tbody>\n",
       "</table>\n",
       "<p>83825 rows × 4 columns</p>\n",
       "</div>"
      ],
      "text/plain": [
       "                     donor_id     type    ind         sample\n",
       "cell                                                        \n",
       "AAACGAAAGTAGATCA-1    NA18913  MESENDO  18913  18913_MESENDO\n",
       "AAACGAACATGATAGA-1    NA18913  MESENDO  18913  18913_MESENDO\n",
       "AAACGAATCTCAGGCG-1    NA18913     IPSC  18913     18913_IPSC\n",
       "AAAGGATTCTAAGCCA-1    NA18913     IPSC  18913     18913_IPSC\n",
       "AAAGGTAAGTGGCGAT-1    NA18913     IPSC  18913     18913_IPSC\n",
       "...                       ...      ...    ...            ...\n",
       "TTTGGAGGTTAAACCC-118  NA18858  MESENDO  18858  18858_MESENDO\n",
       "TTTGGAGGTTGCAAGG-118  NA18511     IPSC  18511     18511_IPSC\n",
       "TTTGGAGTCCGTTGGG-118  NA18858     IPSC  18858     18858_IPSC\n",
       "TTTGGTTTCGAAGCCC-118  NA18511     IPSC  18511     18511_IPSC\n",
       "TTTGGTTTCGAGATAA-118  NA18858     IPSC  18858     18858_IPSC\n",
       "\n",
       "[83825 rows x 4 columns]"
      ]
     },
     "execution_count": 14,
     "metadata": {},
     "output_type": "execute_result"
    }
   ],
   "source": [
    "cell_subset = adata.obs[['donor_id']].copy()\n",
    "cell_subset['type'] = adata.obs[['stage']]\n",
    "cell_subset['ind'] = [s.replace(\"NA\", \"\") for s in cell_subset['donor_id'].astype(str)]\n",
    "cell_subset['sample'] = cell_subset['ind'] + \"_\" + cell_subset['type']\n",
    "cell_subset = cell_subset[cell_subset['sample'].isin(samples_inc)]\n",
    "cell_subset"
   ]
  },
  {
   "cell_type": "markdown",
   "id": "5f2c35fc",
   "metadata": {},
   "source": [
    "For pseudobulk aggregation, we're going to use the raw data"
   ]
  },
  {
   "cell_type": "code",
   "execution_count": 15,
   "id": "7074fc8f-b764-4eaf-a08f-a293242cf29a",
   "metadata": {},
   "outputs": [],
   "source": [
    "adata = adata[cell_subset.index]"
   ]
  },
  {
   "cell_type": "markdown",
   "id": "57c542e5-575a-4cbc-8494-b8107f0fb414",
   "metadata": {
    "tags": []
   },
   "source": [
    "## Update summary tables"
   ]
  },
  {
   "cell_type": "code",
   "execution_count": 16,
   "id": "16cbb790-2fe0-4876-acf3-d9f5281af30a",
   "metadata": {},
   "outputs": [
    {
     "data": {
      "text/html": [
       "<div>\n",
       "<style scoped>\n",
       "    .dataframe tbody tr th:only-of-type {\n",
       "        vertical-align: middle;\n",
       "    }\n",
       "\n",
       "    .dataframe tbody tr th {\n",
       "        vertical-align: top;\n",
       "    }\n",
       "\n",
       "    .dataframe thead th {\n",
       "        text-align: right;\n",
       "    }\n",
       "</style>\n",
       "<table border=\"1\" class=\"dataframe\">\n",
       "  <thead>\n",
       "    <tr style=\"text-align: right;\">\n",
       "      <th></th>\n",
       "      <th>ind_type</th>\n",
       "      <th>total_counts</th>\n",
       "      <th>n_cells_filtered</th>\n",
       "    </tr>\n",
       "  </thead>\n",
       "  <tbody>\n",
       "    <tr>\n",
       "      <th>0</th>\n",
       "      <td>18486_CM</td>\n",
       "      <td>1773373</td>\n",
       "      <td>46</td>\n",
       "    </tr>\n",
       "    <tr>\n",
       "      <th>1</th>\n",
       "      <td>18486_IPSC</td>\n",
       "      <td>78713377</td>\n",
       "      <td>1178</td>\n",
       "    </tr>\n",
       "    <tr>\n",
       "      <th>2</th>\n",
       "      <td>18486_MESENDO</td>\n",
       "      <td>44684210</td>\n",
       "      <td>780</td>\n",
       "    </tr>\n",
       "    <tr>\n",
       "      <th>3</th>\n",
       "      <td>18486_MESO</td>\n",
       "      <td>7729227</td>\n",
       "      <td>192</td>\n",
       "    </tr>\n",
       "    <tr>\n",
       "      <th>4</th>\n",
       "      <td>18486_PROG</td>\n",
       "      <td>4198424</td>\n",
       "      <td>95</td>\n",
       "    </tr>\n",
       "    <tr>\n",
       "      <th>...</th>\n",
       "      <td>...</td>\n",
       "      <td>...</td>\n",
       "      <td>...</td>\n",
       "    </tr>\n",
       "    <tr>\n",
       "      <th>213</th>\n",
       "      <td>19225_PROG</td>\n",
       "      <td>4477989</td>\n",
       "      <td>89</td>\n",
       "    </tr>\n",
       "    <tr>\n",
       "      <th>214</th>\n",
       "      <td>19257_CM</td>\n",
       "      <td>1885507</td>\n",
       "      <td>39</td>\n",
       "    </tr>\n",
       "    <tr>\n",
       "      <th>215</th>\n",
       "      <td>19257_MESENDO</td>\n",
       "      <td>845438</td>\n",
       "      <td>18</td>\n",
       "    </tr>\n",
       "    <tr>\n",
       "      <th>216</th>\n",
       "      <td>19257_MESO</td>\n",
       "      <td>1979084</td>\n",
       "      <td>120</td>\n",
       "    </tr>\n",
       "    <tr>\n",
       "      <th>217</th>\n",
       "      <td>19257_PROG</td>\n",
       "      <td>3267026</td>\n",
       "      <td>77</td>\n",
       "    </tr>\n",
       "  </tbody>\n",
       "</table>\n",
       "<p>218 rows × 3 columns</p>\n",
       "</div>"
      ],
      "text/plain": [
       "          ind_type  total_counts  n_cells_filtered\n",
       "0         18486_CM       1773373                46\n",
       "1       18486_IPSC      78713377              1178\n",
       "2    18486_MESENDO      44684210               780\n",
       "3       18486_MESO       7729227               192\n",
       "4       18486_PROG       4198424                95\n",
       "..             ...           ...               ...\n",
       "213     19225_PROG       4477989                89\n",
       "214       19257_CM       1885507                39\n",
       "215  19257_MESENDO        845438                18\n",
       "216     19257_MESO       1979084               120\n",
       "217     19257_PROG       3267026                77\n",
       "\n",
       "[218 rows x 3 columns]"
      ]
     },
     "execution_count": 16,
     "metadata": {},
     "output_type": "execute_result"
    }
   ],
   "source": [
    "filtered_counts = adata.obs[['donor_id', 'stage', 'total_counts']].copy()\n",
    "filtered_counts['n_cells_filtered'] = 1\n",
    "filtered_counts['individual'] = [s.replace(\"NA\", \"\") for s in filtered_counts['donor_id']]\n",
    "filtered_counts['ind_type'] = filtered_counts['individual'].astype(str) + \"_\" + filtered_counts['stage'].astype(str)\n",
    "filtered_counts = filtered_counts.drop(columns=['donor_id', 'individual', 'stage'])\n",
    "filtered_counts = filtered_counts.groupby('ind_type').agg({'total_counts': 'sum', 'n_cells_filtered': 'count'})\n",
    "filtered_counts = filtered_counts.reset_index().astype({'total_counts': 'int'})\n",
    "filtered_counts"
   ]
  },
  {
   "cell_type": "code",
   "execution_count": 17,
   "id": "ae52048d-c721-43e2-9910-6c34c6fc41f2",
   "metadata": {},
   "outputs": [],
   "source": [
    "cell_counts_filtered = cell_counts.merge(filtered_counts, on='ind_type', how='left').fillna({'total_counts': 0, 'n_cells_filtered': 0}).astype({'total_counts': 'int', 'n_cells_filtered': 'int'})\n",
    "cell_counts_filtered['dropped'] = cell_counts_filtered['n_cells_filtered'] < 5\n",
    "cell_counts_filtered = cell_counts_filtered.sort_values(by=\"n_cells_filtered\", ascending=False)"
   ]
  },
  {
   "cell_type": "code",
   "execution_count": 18,
   "id": "6a76b534-63bd-4bd6-a726-f72f15016235",
   "metadata": {},
   "outputs": [],
   "source": [
    "cell_counts_filtered.to_csv(\"/project2/gilad/jpopp/ebQTL/data/static_qtl_calling/eb_cmstages/pseudobulk_tmm/sample_summary.tsv\", sep=\"\\t\")"
   ]
  },
  {
   "cell_type": "code",
   "execution_count": 19,
   "id": "7487d95f-cc14-4814-90b4-8fca7bcc7142",
   "metadata": {},
   "outputs": [
    {
     "data": {
      "text/html": [
       "<div>\n",
       "<style scoped>\n",
       "    .dataframe tbody tr th:only-of-type {\n",
       "        vertical-align: middle;\n",
       "    }\n",
       "\n",
       "    .dataframe tbody tr th {\n",
       "        vertical-align: top;\n",
       "    }\n",
       "\n",
       "    .dataframe thead th {\n",
       "        text-align: right;\n",
       "    }\n",
       "</style>\n",
       "<table border=\"1\" class=\"dataframe\">\n",
       "  <thead>\n",
       "    <tr style=\"text-align: right;\">\n",
       "      <th></th>\n",
       "      <th>type</th>\n",
       "      <th>n_filtered</th>\n",
       "    </tr>\n",
       "  </thead>\n",
       "  <tbody>\n",
       "    <tr>\n",
       "      <th>0</th>\n",
       "      <td>MESO</td>\n",
       "      <td>48</td>\n",
       "    </tr>\n",
       "    <tr>\n",
       "      <th>1</th>\n",
       "      <td>PROG</td>\n",
       "      <td>48</td>\n",
       "    </tr>\n",
       "    <tr>\n",
       "      <th>2</th>\n",
       "      <td>MESENDO</td>\n",
       "      <td>44</td>\n",
       "    </tr>\n",
       "    <tr>\n",
       "      <th>3</th>\n",
       "      <td>CM</td>\n",
       "      <td>42</td>\n",
       "    </tr>\n",
       "    <tr>\n",
       "      <th>4</th>\n",
       "      <td>IPSC</td>\n",
       "      <td>36</td>\n",
       "    </tr>\n",
       "  </tbody>\n",
       "</table>\n",
       "</div>"
      ],
      "text/plain": [
       "      type  n_filtered\n",
       "0     MESO          48\n",
       "1     PROG          48\n",
       "2  MESENDO          44\n",
       "3       CM          42\n",
       "4     IPSC          36"
      ]
     },
     "execution_count": 19,
     "metadata": {},
     "output_type": "execute_result"
    }
   ],
   "source": [
    "ind_counts = cell_counts_filtered[cell_counts_filtered['n_cells_filtered'] >= 5]\n",
    "ind_counts = pd.DataFrame(ind_counts[['type']].value_counts()).reset_index(inplace=False).rename(columns={0: \"n_filtered\"})\n",
    "ind_counts = ind_counts[ind_counts['n_filtered']>25]\n",
    "ind_counts"
   ]
  },
  {
   "cell_type": "code",
   "execution_count": 20,
   "id": "21a32f45-2fa3-44e5-bda2-4b68a361eb6e",
   "metadata": {},
   "outputs": [],
   "source": [
    "ind_counts.to_csv(\"/project2/gilad/jpopp/ebQTL/data/static_qtl_calling/eb_cmstages/pseudobulk_tmm/samples_per_celltype.tsv\",\n",
    "                  sep=\"\\t\", index=False)"
   ]
  },
  {
   "cell_type": "markdown",
   "id": "8c1751a1-a9f8-4181-9709-bdd27c1a641e",
   "metadata": {},
   "source": [
    "## Aggregation"
   ]
  },
  {
   "cell_type": "markdown",
   "id": "ed4e3e92-ca3a-4222-b916-f477b17e24ef",
   "metadata": {},
   "source": [
    "### Aggregate raw counts"
   ]
  },
  {
   "cell_type": "code",
   "execution_count": 21,
   "id": "6e3de9f9-ca8b-483a-ae30-86db9775b9d6",
   "metadata": {},
   "outputs": [
    {
     "data": {
      "text/plain": [
       "<83825x218 sparse matrix of type '<class 'numpy.float64'>'\n",
       "\twith 83825 stored elements in Compressed Sparse Row format>"
      ]
     },
     "execution_count": 21,
     "metadata": {},
     "output_type": "execute_result"
    }
   ],
   "source": [
    "cell_subset = adata.obs[['donor_id']].copy()\n",
    "cell_subset['type'] = adata.obs[['stage']]\n",
    "cell_subset['ind'] = [s.replace(\"NA\", \"\") for s in cell_subset['donor_id'].astype(str)]\n",
    "cell_subset['sample'] = cell_subset['ind'] + \"_\" + cell_subset['type']\n",
    "onehot = OneHotEncoder(sparse=True).fit_transform(cell_subset[['sample']])\n",
    "onehot"
   ]
  },
  {
   "cell_type": "code",
   "execution_count": 22,
   "id": "64d6f354-c7ee-4b3e-b6ac-a42f7d7f54c2",
   "metadata": {},
   "outputs": [],
   "source": [
    "pseudobulk_sum = adata.X.transpose() * onehot"
   ]
  },
  {
   "cell_type": "code",
   "execution_count": 23,
   "id": "f8ca854c-cc49-4470-8cd1-f246f7ebd724",
   "metadata": {},
   "outputs": [],
   "source": [
    "pseudobulk_sum = pd.DataFrame.sparse.from_spmatrix(data=pseudobulk_sum, index=adata.var_names, columns=cell_subset['sample'].astype(\"category\").cat.categories)"
   ]
  },
  {
   "cell_type": "code",
   "execution_count": 24,
   "id": "b917af2e-6e73-453d-bc5f-021e5e85929e",
   "metadata": {},
   "outputs": [],
   "source": [
    "pseudobulk_sum.to_csv(\"/project2/gilad/jpopp/ebQTL/data/static_qtl_calling/eb_cmstages/pseudobulk_tmm/eb_cmstages.pseudobulk_tmm.tsv\",\n",
    "                       sep=\"\\t\", index_label=\"gene\")"
   ]
  }
 ],
 "metadata": {
  "kernelspec": {
   "display_name": "scvi-scanpy",
   "language": "python",
   "name": "scvi-scanpy"
  },
  "language_info": {
   "codemirror_mode": {
    "name": "ipython",
    "version": 3
   },
   "file_extension": ".py",
   "mimetype": "text/x-python",
   "name": "python",
   "nbconvert_exporter": "python",
   "pygments_lexer": "ipython3",
   "version": "3.9.10"
  }
 },
 "nbformat": 4,
 "nbformat_minor": 5
}
