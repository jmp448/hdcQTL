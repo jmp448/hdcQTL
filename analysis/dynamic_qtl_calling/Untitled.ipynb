{
 "cells": [
  {
   "cell_type": "code",
   "execution_count": 1,
   "id": "3b72d9bf-2cab-4f29-b21b-2ccf3ee1d90b",
   "metadata": {},
   "outputs": [],
   "source": [
    "import pandas as pd\n",
    "import scanpy as sc"
   ]
  },
  {
   "cell_type": "code",
   "execution_count": 3,
   "id": "4ccd1304-07b7-4a4c-8177-350a043ceca8",
   "metadata": {},
   "outputs": [],
   "source": [
    "adata_cm = sc.read_h5ad(\"/project2/gilad/jpopp/ebQTL/data/trajectory_inference/eb-cm_lineage/eb-cm_lineage.15binstrimmed_pseudotime.adata\")\n",
    "adata_neur = sc.read_h5ad(\"/project2/gilad/jpopp/ebQTL/data/trajectory_inference/eb-neur_lineage/eb-neur_lineage.15binstrimmed_pseudotime.adata\")"
   ]
  },
  {
   "cell_type": "code",
   "execution_count": 6,
   "id": "9474c009-e61c-4222-88a7-2a4888cf2a24",
   "metadata": {},
   "outputs": [],
   "source": [
    "adata_cm.obs[['pseudotime']].to_csv(\"/project2/gilad/jpopp/ebQTL/temp/cm_pseudotime.tsv\", sep=\"\\t\")"
   ]
  },
  {
   "cell_type": "code",
   "execution_count": 7,
   "id": "86150726-a40d-4d86-97eb-fad54bced321",
   "metadata": {},
   "outputs": [],
   "source": [
    "adata_neur.obs[['pseudotime']].to_csv(\"/project2/gilad/jpopp/ebQTL/temp/neur_pseudotime.tsv\", sep=\"\\t\")"
   ]
  },
  {
   "cell_type": "code",
   "execution_count": null,
   "id": "cc28887a-acaf-47df-a540-9cc28f6f360b",
   "metadata": {},
   "outputs": [],
   "source": []
  }
 ],
 "metadata": {
  "kernelspec": {
   "display_name": "scvi-scanpy",
   "language": "python",
   "name": "scvi-scanpy"
  },
  "language_info": {
   "codemirror_mode": {
    "name": "ipython",
    "version": 3
   },
   "file_extension": ".py",
   "mimetype": "text/x-python",
   "name": "python",
   "nbconvert_exporter": "python",
   "pygments_lexer": "ipython3",
   "version": "3.9.10"
  }
 },
 "nbformat": 4,
 "nbformat_minor": 5
}
