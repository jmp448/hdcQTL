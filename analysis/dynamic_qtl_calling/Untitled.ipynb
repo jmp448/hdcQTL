{
 "cells": [
  {
   "cell_type": "code",
   "execution_count": 2,
   "id": "3b72d9bf-2cab-4f29-b21b-2ccf3ee1d90b",
   "metadata": {},
   "outputs": [],
   "source": [
    "import pandas as pd\n",
    "import numpy as np\n",
    "import scanpy as sc"
   ]
  },
  {
   "cell_type": "code",
   "execution_count": 4,
   "id": "cc28887a-acaf-47df-a540-9cc28f6f360b",
   "metadata": {},
   "outputs": [],
   "source": [
    "cm_adata = sc.read_h5ad(\"/project2/gilad/jpopp/ebQTL/data/trajectory_inference/eb-cm_lineage/eb-cm_lineage.15binstrimmed_pseudotime.adata\")"
   ]
  },
  {
   "cell_type": "code",
   "execution_count": 16,
   "id": "98c4d168-9b65-40e7-ac9a-7aefa8124800",
   "metadata": {},
   "outputs": [],
   "source": [
    "cm_pcs = pd.DataFrame(cm_adata.obsm['X_pca'][:, :2]).set_index(cm_adata.obs.index).rename(columns={0: 'PC1', 1: 'PC2'})\n",
    "cm_pcs.to_csv(\"/project2/gilad/jpopp/ebQTL/data/trajectory_inference/eb-cm_lineage/eb-cm_lineage.15binstrimmed_pseudotime.2pcs.tsv\", sep=\"\\t\")"
   ]
  },
  {
   "cell_type": "code",
   "execution_count": 18,
   "id": "2693bf16-e045-434c-bc8b-c39f60f965a7",
   "metadata": {},
   "outputs": [],
   "source": [
    "neur_adata = sc.read_h5ad(\"/project2/gilad/jpopp/ebQTL/data/trajectory_inference/eb-neur_lineage/eb-neur_lineage.15binstrimmed_pseudotime.adata\")\n",
    "neur_pcs = pd.DataFrame(neur_adata.obsm['X_pca'][:, :2]).set_index(neur_adata.obs.index).rename(columns={0: 'PC1', 1: 'PC2'})\n",
    "neur_pcs.to_csv(\"/project2/gilad/jpopp/ebQTL/data/trajectory_inference/eb-neur_lineage/eb-neur_lineage.15binstrimmed_pseudotime.2pcs.tsv\", sep=\"\\t\")"
   ]
  },
  {
   "cell_type": "code",
   "execution_count": 19,
   "id": "f3ec2475-8442-45ea-8178-1d26d6bce0ad",
   "metadata": {},
   "outputs": [],
   "source": [
    "hep_adata = sc.read_h5ad(\"/project2/gilad/jpopp/ebQTL/data/trajectory_inference/eb-hep_lineage/eb-hep_lineage.15binstrimmed_pseudotime.adata\")\n",
    "hep_pcs = pd.DataFrame(hep_adata.obsm['X_pca'][:, :2]).set_index(hep_adata.obs.index).rename(columns={0: 'PC1', 1: 'PC2'})\n",
    "hep_pcs.to_csv(\"/project2/gilad/jpopp/ebQTL/data/trajectory_inference/eb-hep_lineage/eb-hep_lineage.15binstrimmed_pseudotime.2pcs.tsv\", sep=\"\\t\")"
   ]
  },
  {
   "cell_type": "code",
   "execution_count": 20,
   "id": "aa08510c-474b-4bd4-bf06-50411dc39034",
   "metadata": {},
   "outputs": [
    {
     "data": {
      "text/plain": [
       "AnnData object with n_obs × n_vars = 83870 × 35324\n",
       "    obs: 'sample_id', 'Collection.Date', 'Lane', 'Sample.ID', 'cDNA.amp.cycles', 'cDNA.total.yield', 'library.prep.batch', 'Sequencing.batch', 'col.group', 'donor_id', 'prob_max', 'prob_doublet', 'n_vars', 'best_singlet', 'best_doublet', 'doublet_logLikRatio', 'Line.True', 'Line.StockLabel', 'contaminated', 'swapped', 'Feeder.passage', 'Feeder.Free.passage', 'sex', 'Formation.replicate', 'collection.replicate', 'formation.date', 'visual.confluence', 'total.cells.per.lane..correct.', 'X..Viable..based.on.average.of.two.counts.', 'days.maintained.in.LD.prior.to.formation', 'who.dissociated.the.lines.for.formation', 'cell.counter.correction', 'comments', 'collection.date', 'collection.group.label', 'EB.appearance.notes', 'dissociated.by.', 'approx..time.in.accumax..in.minutes.', 'leiden_coarse', 'sizeFactor', 'scranGroup', 'scranCluster', 'trajectory_inclusion_fdr', 'pseudotime', 'stage'\n",
       "    var: 'gene_ids', 'feature_types', 'highly_variable', 'means', 'dispersions', 'dispersions_norm'\n",
       "    uns: 'SCDRS_PARAM', 'hvg', 'log1p', 'pca'\n",
       "    obsm: 'X_pca'\n",
       "    varm: 'PCs'\n",
       "    layers: 'log1pPF'"
      ]
     },
     "execution_count": 20,
     "metadata": {},
     "output_type": "execute_result"
    }
   ],
   "source": [
    "cm_adata"
   ]
  },
  {
   "cell_type": "code",
   "execution_count": 21,
   "id": "9c956629-9fff-414d-b437-6ead752393cc",
   "metadata": {},
   "outputs": [
    {
     "data": {
      "text/html": [
       "<div>\n",
       "<style scoped>\n",
       "    .dataframe tbody tr th:only-of-type {\n",
       "        vertical-align: middle;\n",
       "    }\n",
       "\n",
       "    .dataframe tbody tr th {\n",
       "        vertical-align: top;\n",
       "    }\n",
       "\n",
       "    .dataframe thead th {\n",
       "        text-align: right;\n",
       "    }\n",
       "</style>\n",
       "<table border=\"1\" class=\"dataframe\">\n",
       "  <thead>\n",
       "    <tr style=\"text-align: right;\">\n",
       "      <th></th>\n",
       "      <th>PC1</th>\n",
       "      <th>PC2</th>\n",
       "    </tr>\n",
       "    <tr>\n",
       "      <th>cell</th>\n",
       "      <th></th>\n",
       "      <th></th>\n",
       "    </tr>\n",
       "  </thead>\n",
       "  <tbody>\n",
       "    <tr>\n",
       "      <th>AAACGAAAGTAGATCA-1</th>\n",
       "      <td>-1.415139</td>\n",
       "      <td>-5.512168</td>\n",
       "    </tr>\n",
       "    <tr>\n",
       "      <th>AAACGAACATGATAGA-1</th>\n",
       "      <td>-3.086394</td>\n",
       "      <td>-7.429379</td>\n",
       "    </tr>\n",
       "    <tr>\n",
       "      <th>AAACGAATCTCAGGCG-1</th>\n",
       "      <td>-6.957098</td>\n",
       "      <td>3.918565</td>\n",
       "    </tr>\n",
       "    <tr>\n",
       "      <th>AAAGGATTCTAAGCCA-1</th>\n",
       "      <td>-5.138353</td>\n",
       "      <td>4.575892</td>\n",
       "    </tr>\n",
       "    <tr>\n",
       "      <th>AAAGGTAAGTGGCGAT-1</th>\n",
       "      <td>-4.336584</td>\n",
       "      <td>1.142071</td>\n",
       "    </tr>\n",
       "    <tr>\n",
       "      <th>...</th>\n",
       "      <td>...</td>\n",
       "      <td>...</td>\n",
       "    </tr>\n",
       "    <tr>\n",
       "      <th>TTTGGAGGTTAAACCC-118</th>\n",
       "      <td>1.774973</td>\n",
       "      <td>-15.221868</td>\n",
       "    </tr>\n",
       "    <tr>\n",
       "      <th>TTTGGAGGTTGCAAGG-118</th>\n",
       "      <td>-4.865952</td>\n",
       "      <td>-0.320492</td>\n",
       "    </tr>\n",
       "    <tr>\n",
       "      <th>TTTGGAGTCCGTTGGG-118</th>\n",
       "      <td>-3.219980</td>\n",
       "      <td>-4.873830</td>\n",
       "    </tr>\n",
       "    <tr>\n",
       "      <th>TTTGGTTTCGAAGCCC-118</th>\n",
       "      <td>-4.430321</td>\n",
       "      <td>-3.325370</td>\n",
       "    </tr>\n",
       "    <tr>\n",
       "      <th>TTTGGTTTCGAGATAA-118</th>\n",
       "      <td>-6.149548</td>\n",
       "      <td>-5.165170</td>\n",
       "    </tr>\n",
       "  </tbody>\n",
       "</table>\n",
       "<p>83870 rows × 2 columns</p>\n",
       "</div>"
      ],
      "text/plain": [
       "                           PC1        PC2\n",
       "cell                                     \n",
       "AAACGAAAGTAGATCA-1   -1.415139  -5.512168\n",
       "AAACGAACATGATAGA-1   -3.086394  -7.429379\n",
       "AAACGAATCTCAGGCG-1   -6.957098   3.918565\n",
       "AAAGGATTCTAAGCCA-1   -5.138353   4.575892\n",
       "AAAGGTAAGTGGCGAT-1   -4.336584   1.142071\n",
       "...                        ...        ...\n",
       "TTTGGAGGTTAAACCC-118  1.774973 -15.221868\n",
       "TTTGGAGGTTGCAAGG-118 -4.865952  -0.320492\n",
       "TTTGGAGTCCGTTGGG-118 -3.219980  -4.873830\n",
       "TTTGGTTTCGAAGCCC-118 -4.430321  -3.325370\n",
       "TTTGGTTTCGAGATAA-118 -6.149548  -5.165170\n",
       "\n",
       "[83870 rows x 2 columns]"
      ]
     },
     "execution_count": 21,
     "metadata": {},
     "output_type": "execute_result"
    }
   ],
   "source": [
    "cm_pcs"
   ]
  }
 ],
 "metadata": {
  "kernelspec": {
   "display_name": "scvi-scanpy",
   "language": "python",
   "name": "scvi-scanpy"
  },
  "language_info": {
   "codemirror_mode": {
    "name": "ipython",
    "version": 3
   },
   "file_extension": ".py",
   "mimetype": "text/x-python",
   "name": "python",
   "nbconvert_exporter": "python",
   "pygments_lexer": "ipython3",
   "version": "3.9.10"
  }
 },
 "nbformat": 4,
 "nbformat_minor": 5
}
