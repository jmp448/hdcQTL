{
 "cells": [
  {
   "cell_type": "code",
   "execution_count": 1,
   "id": "38fc83e1-cb9f-4ee5-a6cc-427fcd4d0db5",
   "metadata": {},
   "outputs": [],
   "source": [
    "# basic packages\n",
    "import scanpy as sc\n",
    "import numpy as np\n",
    "import pandas as pd\n",
    "import scipy\n",
    "import sys\n",
    "import os\n",
    "\n",
    "# plotting packages\n",
    "import matplotlib.pyplot as plt\n",
    "import seaborn as sns\n",
    "import matplotlib.colors as mcolors\n",
    "from mpl_toolkits.axes_grid1 import make_axes_locatable\n",
    "\n",
    "# CellRegMap\n",
    "import cellregmap\n",
    "\n",
    "# packages for processing input\n",
    "import xarray as xr\n",
    "from limix.qc import quantile_gaussianize\n",
    "from pandas_plink import read_plink1_bin\n",
    "from numpy.linalg import cholesky"
   ]
  },
  {
   "cell_type": "code",
   "execution_count": null,
   "id": "9e13076b-cab7-44a7-9f68-ddcc4ce42441",
   "metadata": {},
   "outputs": [],
   "source": []
  }
 ],
 "metadata": {
  "kernelspec": {
   "display_name": "cellregmap",
   "language": "python",
   "name": "cellregmap"
  },
  "language_info": {
   "codemirror_mode": {
    "name": "ipython",
    "version": 3
   },
   "file_extension": ".py",
   "mimetype": "text/x-python",
   "name": "python",
   "nbconvert_exporter": "python",
   "pygments_lexer": "ipython3",
   "version": "3.10.0"
  }
 },
 "nbformat": 4,
 "nbformat_minor": 5
}
