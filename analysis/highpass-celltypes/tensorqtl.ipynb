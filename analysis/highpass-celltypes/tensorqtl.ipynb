{
 "cells": [
  {
   "cell_type": "code",
   "execution_count": 6,
   "metadata": {},
   "outputs": [
    {
     "name": "stdout",
     "output_type": "stream",
     "text": [
      "PyTorch 1.11.0+cu102\n",
      "Pandas 1.4.2\n"
     ]
    }
   ],
   "source": [
    "import pandas as pd\n",
    "import torch\n",
    "import tensorqtl\n",
    "import numpy as np\n",
    "import seaborn as sns\n",
    "from tensorqtl import genotypeio, cis, trans\n",
    "print(f'PyTorch {torch.__version__}')\n",
    "print(f'Pandas {pd.__version__}')\n",
    "\n",
    "# define paths to data\n",
    "plink_prefix_path = '../../data/static/highpass_cellid_all/pseudobulk-scran/Shared/genotypes_filtered_plink'\n",
    "expression_bed = '../../data/static/highpass_cellid_all/pseudobulk-scran/Shared/expression.bed.gz'\n",
    "covariates_file = '../../data/static/highpass_cellid_all/pseudobulk-scran/Shared/covariates.tsv'\n",
    "prefix = '../../data/static/highpass_cellid_all/pseudobulk-scran/Shared/tensorqtl_'"
   ]
  },
  {
   "cell_type": "code",
   "execution_count": 2,
   "metadata": {},
   "outputs": [],
   "source": [
    "# load phenotypes and covariates\n",
    "phenotype_df, phenotype_pos_df = tensorqtl.read_phenotype_bed(expression_bed)\n",
    "covariates_df = pd.read_csv(covariates_file, sep='\\t', index_col=0).T"
   ]
  },
  {
   "cell_type": "code",
   "execution_count": 3,
   "metadata": {},
   "outputs": [
    {
     "name": "stderr",
     "output_type": "stream",
     "text": [
      "Mapping files: 100%|██████████| 3/3 [00:04<00:00,  1.65s/it]\n"
     ]
    }
   ],
   "source": [
    "# PLINK reader for genotypes\n",
    "pr = genotypeio.PlinkReader(plink_prefix_path)\n",
    "genotype_df = pr.load_genotypes()\n",
    "variant_df = pr.bim.set_index('snp')[['chrom', 'pos']]"
   ]
  },
  {
   "cell_type": "code",
   "execution_count": 35,
   "metadata": {},
   "outputs": [
    {
     "name": "stdout",
     "output_type": "stream",
     "text": [
      "cis-QTL mapping: nominal associations for all variant-phenotype pairs\n",
      "  * 51 samples\n",
      "  * 18007 phenotypes\n",
      "  * 5 covariates\n",
      "  * 5273876 variants\n",
      "  * checking phenotypes: 18007/18007\n",
      "    ** dropping 686 phenotypes without variants in cis-window\n",
      "  * Computing associations\n",
      "    Mapping chromosome chr1\n",
      "    processing phenotype 1923/17321    time elapsed: 0.16 min\n",
      "    * writing output\n",
      "    Mapping chromosome chr2\n",
      "    processing phenotype 3054/17321    time elapsed: 0.36 min\n",
      "    * writing output\n",
      "    Mapping chromosome chr3\n",
      "    processing phenotype 4061/17321    time elapsed: 0.50 min\n",
      "    * writing output\n",
      "    Mapping chromosome chr4\n",
      "    processing phenotype 4776/17321    time elapsed: 0.62 min\n",
      "    * writing output\n",
      "    Mapping chromosome chr5\n",
      "    processing phenotype 5595/17321    time elapsed: 0.74 min\n",
      "    * writing output\n",
      "    Mapping chromosome chr6\n",
      "    processing phenotype 6478/17321    time elapsed: 0.86 min\n",
      "    * writing output\n",
      "    Mapping chromosome chr7\n",
      "    processing phenotype 7362/17321    time elapsed: 0.99 min\n",
      "    * writing output\n",
      "    Mapping chromosome chr8\n",
      "    processing phenotype 7999/17321    time elapsed: 1.09 min\n",
      "    * writing output\n",
      "    Mapping chromosome chr9\n",
      "    processing phenotype 8646/17321    time elapsed: 1.18 min\n",
      "    * writing output\n",
      "    Mapping chromosome chr10\n",
      "    processing phenotype 9359/17321    time elapsed: 1.27 min\n",
      "    * writing output\n",
      "    Mapping chromosome chr11\n",
      "    processing phenotype 10534/17321    time elapsed: 1.41 min\n",
      "    * writing output\n",
      "    Mapping chromosome chr12\n",
      "    processing phenotype 11527/17321    time elapsed: 1.57 min\n",
      "    * writing output\n",
      "    Mapping chromosome chr13\n",
      "    processing phenotype 11824/17321    time elapsed: 1.65 min\n",
      "    * writing output\n",
      "    Mapping chromosome chr14\n",
      "    processing phenotype 12381/17321    time elapsed: 1.72 min\n",
      "    * writing output\n",
      "    Mapping chromosome chr15\n",
      "    processing phenotype 12931/17321    time elapsed: 1.79 min\n",
      "    * writing output\n",
      "    Mapping chromosome chr16\n",
      "    processing phenotype 13520/17321    time elapsed: 1.87 min\n",
      "    * writing output\n",
      "    Mapping chromosome chr17\n",
      "    processing phenotype 14583/17321    time elapsed: 1.98 min\n",
      "    * writing output\n",
      "    Mapping chromosome chr18\n",
      "    processing phenotype 14844/17321    time elapsed: 2.05 min\n",
      "    * writing output\n",
      "    Mapping chromosome chr19\n",
      "    processing phenotype 16214/17321    time elapsed: 2.20 min\n",
      "    * writing output\n",
      "    Mapping chromosome chr20\n",
      "    processing phenotype 16730/17321    time elapsed: 2.34 min\n",
      "    * writing output\n",
      "    Mapping chromosome chr21\n",
      "    processing phenotype 16901/17321    time elapsed: 2.38 min\n",
      "    * writing output\n",
      "    Mapping chromosome chr22\n",
      "    processing phenotype 17321/17321\n",
      "    time elapsed: 2.43 min\n",
      "    * writing output\n",
      "done.\n"
     ]
    }
   ],
   "source": [
    "cis.map_nominal(genotype_df, variant_df, \n",
    "                phenotype_df, phenotype_pos_df, \n",
    "                prefix, covariates_df)"
   ]
  },
  {
   "cell_type": "code",
   "execution_count": 4,
   "metadata": {},
   "outputs": [
    {
     "name": "stdout",
     "output_type": "stream",
     "text": [
      "cis-QTL mapping: empirical p-values for phenotypes\n",
      "  * 51 samples\n",
      "  * 18007 phenotypes\n",
      "  * 5 covariates\n"
     ]
    },
    {
     "name": "stderr",
     "output_type": "stream",
     "text": [
      "/project2/gilad/jpopp/ebQTL/.snakemake/conda/32332238fb63a33da22386aae45abc4e/lib/python3.10/site-packages/tensorqtl/core.py:52: UserWarning: torch.qr is deprecated in favor of torch.linalg.qr and will be removed in a future PyTorch release.\n",
      "The boolean parameter 'some' has been replaced with a string parameter 'mode'.\n",
      "Q, R = torch.qr(A, some)\n",
      "should be replaced with\n",
      "Q, R = torch.linalg.qr(A, 'reduced' if some else 'complete') (Triggered internally at  ../aten/src/ATen/native/BatchLinearAlgebra.cpp:1980.)\n",
      "  self.Q_t, _ = torch.qr(C_t - C_t.mean(0))\n"
     ]
    },
    {
     "name": "stdout",
     "output_type": "stream",
     "text": [
      "  * 3272257 variants\n",
      "  * using seed 123456\n",
      "  * checking phenotypes: 18007/18007\n",
      "    ** dropping 713 phenotypes without variants in cis-window\n",
      "  * computing permutations\n",
      "    processing phenotype 17294/17294\n",
      "  Time elapsed: 28.53 min\n",
      "done.\n"
     ]
    }
   ],
   "source": [
    "cis_df = cis.map_cis(genotype_df, variant_df, \n",
    "                     phenotype_df, phenotype_pos_df,\n",
    "                     covariates_df=covariates_df, seed=123456)"
   ]
  },
  {
   "cell_type": "code",
   "execution_count": 5,
   "metadata": {},
   "outputs": [
    {
     "data": {
      "text/html": [
       "<div>\n",
       "<style scoped>\n",
       "    .dataframe tbody tr th:only-of-type {\n",
       "        vertical-align: middle;\n",
       "    }\n",
       "\n",
       "    .dataframe tbody tr th {\n",
       "        vertical-align: top;\n",
       "    }\n",
       "\n",
       "    .dataframe thead th {\n",
       "        text-align: right;\n",
       "    }\n",
       "</style>\n",
       "<table border=\"1\" class=\"dataframe\">\n",
       "  <thead>\n",
       "    <tr style=\"text-align: right;\">\n",
       "      <th></th>\n",
       "      <th>num_var</th>\n",
       "      <th>beta_shape1</th>\n",
       "      <th>beta_shape2</th>\n",
       "      <th>true_df</th>\n",
       "      <th>pval_true_df</th>\n",
       "      <th>variant_id</th>\n",
       "      <th>tss_distance</th>\n",
       "      <th>ma_samples</th>\n",
       "      <th>ma_count</th>\n",
       "      <th>af</th>\n",
       "      <th>pval_nominal</th>\n",
       "      <th>slope</th>\n",
       "      <th>slope_se</th>\n",
       "      <th>pval_perm</th>\n",
       "      <th>pval_beta</th>\n",
       "    </tr>\n",
       "    <tr>\n",
       "      <th>phenotype_id</th>\n",
       "      <th></th>\n",
       "      <th></th>\n",
       "      <th></th>\n",
       "      <th></th>\n",
       "      <th></th>\n",
       "      <th></th>\n",
       "      <th></th>\n",
       "      <th></th>\n",
       "      <th></th>\n",
       "      <th></th>\n",
       "      <th></th>\n",
       "      <th></th>\n",
       "      <th></th>\n",
       "      <th></th>\n",
       "      <th></th>\n",
       "    </tr>\n",
       "  </thead>\n",
       "  <tbody>\n",
       "    <tr>\n",
       "      <th>OR4F5</th>\n",
       "      <td>182</td>\n",
       "      <td>1.008709</td>\n",
       "      <td>32.935097</td>\n",
       "      <td>38.490753</td>\n",
       "      <td>0.048026</td>\n",
       "      <td>rs2879816</td>\n",
       "      <td>860831</td>\n",
       "      <td>15</td>\n",
       "      <td>17</td>\n",
       "      <td>0.166667</td>\n",
       "      <td>0.034378</td>\n",
       "      <td>-0.431962</td>\n",
       "      <td>0.197833</td>\n",
       "      <td>0.799220</td>\n",
       "      <td>0.799777</td>\n",
       "    </tr>\n",
       "    <tr>\n",
       "      <th>SAMD11</th>\n",
       "      <td>857</td>\n",
       "      <td>1.057589</td>\n",
       "      <td>97.254036</td>\n",
       "      <td>36.898464</td>\n",
       "      <td>0.013536</td>\n",
       "      <td>rs3094315</td>\n",
       "      <td>-106742</td>\n",
       "      <td>29</td>\n",
       "      <td>38</td>\n",
       "      <td>0.372549</td>\n",
       "      <td>0.006946</td>\n",
       "      <td>-0.518175</td>\n",
       "      <td>0.182950</td>\n",
       "      <td>0.718428</td>\n",
       "      <td>0.713642</td>\n",
       "    </tr>\n",
       "    <tr>\n",
       "      <th>NOC2L</th>\n",
       "      <td>912</td>\n",
       "      <td>1.040972</td>\n",
       "      <td>95.419586</td>\n",
       "      <td>36.830437</td>\n",
       "      <td>0.059639</td>\n",
       "      <td>rs79774771</td>\n",
       "      <td>276040</td>\n",
       "      <td>14</td>\n",
       "      <td>15</td>\n",
       "      <td>0.147059</td>\n",
       "      <td>0.039314</td>\n",
       "      <td>-0.337611</td>\n",
       "      <td>0.158939</td>\n",
       "      <td>0.995900</td>\n",
       "      <td>0.996873</td>\n",
       "    </tr>\n",
       "    <tr>\n",
       "      <th>KLHL17</th>\n",
       "      <td>912</td>\n",
       "      <td>1.029264</td>\n",
       "      <td>105.529137</td>\n",
       "      <td>37.723610</td>\n",
       "      <td>0.005348</td>\n",
       "      <td>rs112150631</td>\n",
       "      <td>104034</td>\n",
       "      <td>11</td>\n",
       "      <td>12</td>\n",
       "      <td>0.117647</td>\n",
       "      <td>0.002605</td>\n",
       "      <td>-0.607913</td>\n",
       "      <td>0.190421</td>\n",
       "      <td>0.424558</td>\n",
       "      <td>0.417978</td>\n",
       "    </tr>\n",
       "    <tr>\n",
       "      <th>PLEKHN1</th>\n",
       "      <td>912</td>\n",
       "      <td>1.046102</td>\n",
       "      <td>95.297867</td>\n",
       "      <td>36.759785</td>\n",
       "      <td>0.051459</td>\n",
       "      <td>rs114625464</td>\n",
       "      <td>989866</td>\n",
       "      <td>12</td>\n",
       "      <td>12</td>\n",
       "      <td>0.117647</td>\n",
       "      <td>0.032909</td>\n",
       "      <td>0.654742</td>\n",
       "      <td>0.297263</td>\n",
       "      <td>0.991401</td>\n",
       "      <td>0.992763</td>\n",
       "    </tr>\n",
       "    <tr>\n",
       "      <th>...</th>\n",
       "      <td>...</td>\n",
       "      <td>...</td>\n",
       "      <td>...</td>\n",
       "      <td>...</td>\n",
       "      <td>...</td>\n",
       "      <td>...</td>\n",
       "      <td>...</td>\n",
       "      <td>...</td>\n",
       "      <td>...</td>\n",
       "      <td>...</td>\n",
       "      <td>...</td>\n",
       "      <td>...</td>\n",
       "      <td>...</td>\n",
       "      <td>...</td>\n",
       "      <td>...</td>\n",
       "    </tr>\n",
       "    <tr>\n",
       "      <th>MAPK8IP2</th>\n",
       "      <td>1478</td>\n",
       "      <td>1.040446</td>\n",
       "      <td>166.682495</td>\n",
       "      <td>37.481663</td>\n",
       "      <td>0.000288</td>\n",
       "      <td>rs732710</td>\n",
       "      <td>-406717</td>\n",
       "      <td>19</td>\n",
       "      <td>23</td>\n",
       "      <td>0.225490</td>\n",
       "      <td>0.000084</td>\n",
       "      <td>-0.510239</td>\n",
       "      <td>0.117762</td>\n",
       "      <td>0.037896</td>\n",
       "      <td>0.040708</td>\n",
       "    </tr>\n",
       "    <tr>\n",
       "      <th>ARSA</th>\n",
       "      <td>1428</td>\n",
       "      <td>1.070310</td>\n",
       "      <td>164.372437</td>\n",
       "      <td>37.088467</td>\n",
       "      <td>0.014502</td>\n",
       "      <td>rs9628182</td>\n",
       "      <td>-42087</td>\n",
       "      <td>38</td>\n",
       "      <td>50</td>\n",
       "      <td>0.490196</td>\n",
       "      <td>0.007689</td>\n",
       "      <td>-0.426211</td>\n",
       "      <td>0.152566</td>\n",
       "      <td>0.897310</td>\n",
       "      <td>0.897845</td>\n",
       "    </tr>\n",
       "    <tr>\n",
       "      <th>SHANK3</th>\n",
       "      <td>1339</td>\n",
       "      <td>1.039233</td>\n",
       "      <td>156.019852</td>\n",
       "      <td>37.695400</td>\n",
       "      <td>0.005519</td>\n",
       "      <td>rs11913579</td>\n",
       "      <td>-986033</td>\n",
       "      <td>21</td>\n",
       "      <td>24</td>\n",
       "      <td>0.235294</td>\n",
       "      <td>0.002691</td>\n",
       "      <td>-0.489255</td>\n",
       "      <td>0.153811</td>\n",
       "      <td>0.563644</td>\n",
       "      <td>0.560422</td>\n",
       "    </tr>\n",
       "    <tr>\n",
       "      <th>ACR</th>\n",
       "      <td>1258</td>\n",
       "      <td>1.058230</td>\n",
       "      <td>124.971733</td>\n",
       "      <td>36.541901</td>\n",
       "      <td>0.001992</td>\n",
       "      <td>rs6010224</td>\n",
       "      <td>-462134</td>\n",
       "      <td>26</td>\n",
       "      <td>30</td>\n",
       "      <td>0.705882</td>\n",
       "      <td>0.000684</td>\n",
       "      <td>-0.657120</td>\n",
       "      <td>0.179820</td>\n",
       "      <td>0.199980</td>\n",
       "      <td>0.197597</td>\n",
       "    </tr>\n",
       "    <tr>\n",
       "      <th>RABL2B</th>\n",
       "      <td>1244</td>\n",
       "      <td>1.052241</td>\n",
       "      <td>119.153793</td>\n",
       "      <td>36.263344</td>\n",
       "      <td>0.003071</td>\n",
       "      <td>rs11091016</td>\n",
       "      <td>-358958</td>\n",
       "      <td>38</td>\n",
       "      <td>50</td>\n",
       "      <td>0.509804</td>\n",
       "      <td>0.001095</td>\n",
       "      <td>-0.495413</td>\n",
       "      <td>0.141751</td>\n",
       "      <td>0.282272</td>\n",
       "      <td>0.283227</td>\n",
       "    </tr>\n",
       "  </tbody>\n",
       "</table>\n",
       "<p>17294 rows × 15 columns</p>\n",
       "</div>"
      ],
      "text/plain": [
       "              num_var  beta_shape1  beta_shape2    true_df  pval_true_df  \\\n",
       "phenotype_id                                                               \n",
       "OR4F5             182     1.008709    32.935097  38.490753      0.048026   \n",
       "SAMD11            857     1.057589    97.254036  36.898464      0.013536   \n",
       "NOC2L             912     1.040972    95.419586  36.830437      0.059639   \n",
       "KLHL17            912     1.029264   105.529137  37.723610      0.005348   \n",
       "PLEKHN1           912     1.046102    95.297867  36.759785      0.051459   \n",
       "...               ...          ...          ...        ...           ...   \n",
       "MAPK8IP2         1478     1.040446   166.682495  37.481663      0.000288   \n",
       "ARSA             1428     1.070310   164.372437  37.088467      0.014502   \n",
       "SHANK3           1339     1.039233   156.019852  37.695400      0.005519   \n",
       "ACR              1258     1.058230   124.971733  36.541901      0.001992   \n",
       "RABL2B           1244     1.052241   119.153793  36.263344      0.003071   \n",
       "\n",
       "               variant_id  tss_distance  ma_samples  ma_count        af  \\\n",
       "phenotype_id                                                              \n",
       "OR4F5           rs2879816        860831          15        17  0.166667   \n",
       "SAMD11          rs3094315       -106742          29        38  0.372549   \n",
       "NOC2L          rs79774771        276040          14        15  0.147059   \n",
       "KLHL17        rs112150631        104034          11        12  0.117647   \n",
       "PLEKHN1       rs114625464        989866          12        12  0.117647   \n",
       "...                   ...           ...         ...       ...       ...   \n",
       "MAPK8IP2         rs732710       -406717          19        23  0.225490   \n",
       "ARSA            rs9628182        -42087          38        50  0.490196   \n",
       "SHANK3         rs11913579       -986033          21        24  0.235294   \n",
       "ACR             rs6010224       -462134          26        30  0.705882   \n",
       "RABL2B         rs11091016       -358958          38        50  0.509804   \n",
       "\n",
       "              pval_nominal     slope  slope_se  pval_perm  pval_beta  \n",
       "phenotype_id                                                          \n",
       "OR4F5             0.034378 -0.431962  0.197833   0.799220   0.799777  \n",
       "SAMD11            0.006946 -0.518175  0.182950   0.718428   0.713642  \n",
       "NOC2L             0.039314 -0.337611  0.158939   0.995900   0.996873  \n",
       "KLHL17            0.002605 -0.607913  0.190421   0.424558   0.417978  \n",
       "PLEKHN1           0.032909  0.654742  0.297263   0.991401   0.992763  \n",
       "...                    ...       ...       ...        ...        ...  \n",
       "MAPK8IP2          0.000084 -0.510239  0.117762   0.037896   0.040708  \n",
       "ARSA              0.007689 -0.426211  0.152566   0.897310   0.897845  \n",
       "SHANK3            0.002691 -0.489255  0.153811   0.563644   0.560422  \n",
       "ACR               0.000684 -0.657120  0.179820   0.199980   0.197597  \n",
       "RABL2B            0.001095 -0.495413  0.141751   0.282272   0.283227  \n",
       "\n",
       "[17294 rows x 15 columns]"
      ]
     },
     "execution_count": 5,
     "metadata": {},
     "output_type": "execute_result"
    }
   ],
   "source": [
    "cis_df"
   ]
  },
  {
   "cell_type": "code",
   "execution_count": 7,
   "metadata": {},
   "outputs": [
    {
     "data": {
      "text/plain": [
       "<AxesSubplot:xlabel='pval_beta', ylabel='Count'>"
      ]
     },
     "execution_count": 7,
     "metadata": {},
     "output_type": "execute_result"
    },
    {
     "data": {
      "image/png": "[encoded data removed]",
      "text/plain": [
       "<Figure size 432x288 with 1 Axes>"
      ]
     },
     "metadata": {
      "needs_background": "light"
     },
     "output_type": "display_data"
    }
   ],
   "source": [
    "sns.histplot(cis_df, x=\"pval_beta\")"
   ]
  },
  {
   "cell_type": "code",
   "execution_count": 14,
   "metadata": {},
   "outputs": [],
   "source": [
    "cis_df['pval_bonf'] = [min(cis_df['pval_nominal'][i] * cis_df['num_var'][i], 1) for i in range(len(cis_df))]"
   ]
  },
  {
   "cell_type": "code",
   "execution_count": 15,
   "metadata": {},
   "outputs": [
    {
     "data": {
      "text/plain": [
       "<AxesSubplot:xlabel='pval_bonf', ylabel='Count'>"
      ]
     },
     "execution_count": 15,
     "metadata": {},
     "output_type": "execute_result"
    },
    {
     "data": {
      "image/png": "[encoded data removed]",
      "text/plain": [
       "<Figure size 432x288 with 1 Axes>"
      ]
     },
     "metadata": {
      "needs_background": "light"
     },
     "output_type": "display_data"
    }
   ],
   "source": [
    "sns.histplot(cis_df, x=\"pval_bonf\")"
   ]
  },
  {
   "cell_type": "code",
   "execution_count": 16,
   "metadata": {},
   "outputs": [],
   "source": [
    "cis_df.to_csv(\"../../data/static/highpass_cellid_all/pseudobulk-scran/Shared/tensorqtl_permutations.tsv\", sep=\"\\t\")"
   ]
  },
  {
   "cell_type": "code",
   "execution_count": null,
   "metadata": {},
   "outputs": [],
   "source": []
  }
 ],
 "metadata": {
  "kernelspec": {
   "display_name": "tensorqtl",
   "language": "python",
   "name": "tensorqtl"
  },
  "language_info": {
   "codemirror_mode": {
    "name": "ipython",
    "version": 3
   },
   "file_extension": ".py",
   "mimetype": "text/x-python",
   "name": "python",
   "nbconvert_exporter": "python",
   "pygments_lexer": "ipython3",
   "version": "3.10.4"
  }
 },
 "nbformat": 4,
 "nbformat_minor": 4
}
